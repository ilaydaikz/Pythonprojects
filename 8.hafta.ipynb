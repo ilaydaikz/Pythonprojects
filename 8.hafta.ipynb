{
 "cells": [
  {
   "cell_type": "markdown",
   "metadata": {},
   "source": [
    "Bir hayvanat bahçesindeki hayvanlar hakkındaki bilgileri takip etmek için bir sistem tasarlıyorsunuz.\n",
    "\n",
    "Hayvanlar:\n",
    "* Atlar (atlar, zebralar, eşekler vb.),\n",
    "* Kedigiller (kaplanlar, aslanlar vb.),\n",
    "* Kemirgenler (sıçanlar, kunduzlar vb.) gibi gruplardaki türlerle karakterize edilir.\n",
    "* Hayvanlar hakkında depolanan bilgilerin çoğu tüm gruplamalar için aynıdır.\n",
    "tür adı, ağırlığı, yaşı vb.\n",
    "* Sistem ayrıca her hayvan için belirli ilaçların dozajını alabilmeli => getDosage ()\n",
    "* Sistem Yem verme zamanlarını hesaplayabilmelidir => getFeedSchedule ()\n",
    "* Sistemin bu işlevleri yerine getirme mantığı, her gruplama için farklı olacaktır. Örneğin, atlar için yem verme algoritması farklı olup, kaplanlar için farklı olacaktır.\n",
    "\n",
    "Polimorfizm modelini kullanarak, yukarıda açıklanan durumu ele almak için bir sınıf diyagramı tasarlayın.\n"
   ]
  },
  {
   "cell_type": "code",
   "execution_count": 1,
   "metadata": {},
   "outputs": [],
   "source": [
    "class Hayvan:\n",
    "    def __init__(self,tur_adi, agirlik, yas):\n",
    "        self.tur_adi = tur_adi\n",
    "        self.agirlik = agirlik\n",
    "        self.yas = yas\n",
    "    def GetDosage(self):\n",
    "        return 1\n",
    "    def getFeedSchedule(self):\n",
    "        return [8, 18]\n",
    "        \n"
   ]
  },
  {
   "cell_type": "code",
   "execution_count": 8,
   "metadata": {},
   "outputs": [],
   "source": [
    "class Atlar(Hayvan):\n",
    "    def __init__(self, tur_adi, agirlik, yas, dozaj, yem):\n",
    "        super().__init__(tur_adi, agirlik, yas)\n",
    "        self.dozaj = dozaj\n",
    "        self.yem = yem\n",
    "\n",
    "    def getDosage(self):\n",
    "        return self.dozaj\n",
    "    \n",
    "    def setDosage(self, dozaj):\n",
    "        self.dozaj = dozaj\n",
    "\n",
    "    def getFeedSchelude(self):\n",
    "        return self.yem\n",
    "\n",
    "    def setFeedSchelude(self, yem):\n",
    "        self.yem = yem\n"
   ]
  },
  {
   "cell_type": "code",
   "execution_count": 9,
   "metadata": {},
   "outputs": [],
   "source": [
    "class Kedigiller(Hayvan):\n",
    "    def __init__(self,tur_adi,agirlik,yas):\n",
    "        super().__init__(tur_adi, agirlik,yas)\n",
    "    def getDosage(self):\n",
    "        return 2\n",
    "    def getFeedSchedule(self):\n",
    "        return[11,20]"
   ]
  },
  {
   "cell_type": "code",
   "execution_count": 13,
   "metadata": {},
   "outputs": [],
   "source": [
    "class Kemirgenler(Hayvan):\n",
    "    def __init__(self, tur_adi, agirlik, yas):\n",
    "        super().__init__(tur_adi, agirlik, yas)\n",
    "    \n",
    "    def getDosage(self):\n",
    "        return 2\n",
    "\n",
    "    def getFeedSchelude(self):\n",
    "        return [10, 20]\n"
   ]
  },
  {
   "cell_type": "code",
   "execution_count": 14,
   "metadata": {},
   "outputs": [],
   "source": [
    "zebra = Atlar(\"at\", 330, 3,3,[8,18])\n",
    "kaplan = Kedigiller(\"kedi\", 200,4)\n",
    "sican = Kemirgenler(\"kemirgen\", 5, 2)"
   ]
  },
  {
   "cell_type": "code",
   "execution_count": 15,
   "metadata": {},
   "outputs": [],
   "source": [
    "zebra.setDosage(2)\n",
    "zebra.setFeedSchelude([9,20])"
   ]
  },
  {
   "cell_type": "code",
   "execution_count": 17,
   "metadata": {},
   "outputs": [
    {
     "name": "stdout",
     "output_type": "stream",
     "text": [
      "Zebra için: \n",
      "İlaç Dozu: 2\n",
      "Yem Zamanları: [9, 20]\n",
      "\n"
     ]
    }
   ],
   "source": [
    "print(f\"Zebra için: \\nİlaç Dozu: {zebra.getDosage()}\\nYem Zamanları: {zebra.getFeedSchelude()}\\n\")\n"
   ]
  }
 ],
 "metadata": {
  "kernelspec": {
   "display_name": "Python 3.8.5 ('base')",
   "language": "python",
   "name": "python3"
  },
  "language_info": {
   "codemirror_mode": {
    "name": "ipython",
    "version": 3
   },
   "file_extension": ".py",
   "mimetype": "text/x-python",
   "name": "python",
   "nbconvert_exporter": "python",
   "pygments_lexer": "ipython3",
   "version": "3.8.5"
  },
  "orig_nbformat": 4,
  "vscode": {
   "interpreter": {
    "hash": "9d6ce5ea9b30afa84a0bdd15adcfa687f418b99b4b035176b67360f86967787b"
   }
  }
 },
 "nbformat": 4,
 "nbformat_minor": 2
}
