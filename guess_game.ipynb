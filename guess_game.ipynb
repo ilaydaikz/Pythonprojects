{
 "cells": [
  {
   "cell_type": "code",
   "execution_count": 1,
   "metadata": {},
   "outputs": [
    {
     "name": "stdout",
     "output_type": "stream",
     "text": [
      "4\n",
      "guess lower please\n",
      "guess lower please\n",
      "congrats!\n",
      "your guess is 1\n"
     ]
    }
   ],
   "source": [
    "from random import randint\n",
    "def get_random_number():\n",
    "    return randint(0,100)\n",
    "print(get_random_number())\n",
    "guess = 0\n",
    "while True:\n",
    "    guess = +1\n",
    "    sayi = int(input(\"bir sayi giriniz:\"))\n",
    "    if (sayi == 0):\n",
    "        break\n",
    "    elif sayi < guess:\n",
    "        print(\"guess more bigger\")\n",
    "    elif sayi > guess:\n",
    "        print(\"guess lower please\")\n",
    "    else:\n",
    "        print(\"congrats!\")\n",
    "        print(f\"your guess is {sayi}\")\n",
    "\n",
    "\n",
    "    \n"
   ]
  }
 ],
 "metadata": {
  "interpreter": {
   "hash": "9d6ce5ea9b30afa84a0bdd15adcfa687f418b99b4b035176b67360f86967787b"
  },
  "kernelspec": {
   "display_name": "Python 3.8.5 ('base')",
   "language": "python",
   "name": "python3"
  },
  "language_info": {
   "codemirror_mode": {
    "name": "ipython",
    "version": 3
   },
   "file_extension": ".py",
   "mimetype": "text/x-python",
   "name": "python",
   "nbconvert_exporter": "python",
   "pygments_lexer": "ipython3",
   "version": "3.8.5"
  },
  "orig_nbformat": 4
 },
 "nbformat": 4,
 "nbformat_minor": 2
}
