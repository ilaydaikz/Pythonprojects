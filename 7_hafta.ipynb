{
 "cells": [
  {
   "cell_type": "markdown",
   "metadata": {},
   "source": [
    "**TEMEL DOSYA İŞLEMLERİ**\n",
    "* Bir dosyayı açma\n",
    "* o dosyadan veriyi okuma \n",
    "* dosyadan içine veri yazma \n",
    "* dosyayı kapatma\n",
    " w dosyası yazı yazma amacıyla oluştururlur. Bir dosya zaten varsa dosyanın üzerine yazar.\n",
    "a ekleme metodunda \n"
   ]
  },
  {
   "cell_type": "markdown",
   "metadata": {},
   "source": [
    "dosya oluşturma \n",
    "open(\"dosya_yolu\",\"erisim_modu\")"
   ]
  },
  {
   "cell_type": "code",
   "execution_count": 4,
   "metadata": {},
   "outputs": [
    {
     "data": {
      "text/plain": [
       "<function TextIOWrapper.close()>"
      ]
     },
     "execution_count": 4,
     "metadata": {},
     "output_type": "execute_result"
    }
   ],
   "source": [
    "f = open(\"names.txt\", \"w\") #veriyi ezerek devam ediyor\n",
    "f.write(\"elvan\")\n",
    "f.close"
   ]
  },
  {
   "cell_type": "code",
   "execution_count": 2,
   "metadata": {},
   "outputs": [],
   "source": [
    "my_list = [\"ayşe\",\"fatma\",\"ilayda\"]\n",
    "\n",
    "f = open(\"names.txt\", \"a\") # a kaybetmemeyi sağlıyor\n",
    "for i in my_list:\n",
    "    f.write(i)\n",
    "f.close()\n"
   ]
  },
  {
   "cell_type": "code",
   "execution_count": 5,
   "metadata": {},
   "outputs": [],
   "source": [
    "my_list = [\"ayşe\",\"fatma\",\"ilayda\"]\n",
    "\n",
    "f = open(\"names.txt\", \"w\")\n",
    "for i in my_list:\n",
    "    f.write(i+ \"\\n\")\n",
    "f.close()"
   ]
  },
  {
   "cell_type": "code",
   "execution_count": 7,
   "metadata": {},
   "outputs": [
    {
     "name": "stdout",
     "output_type": "stream",
     "text": [
      "['.git', '5.soru.ipynb', '7_hafta.ipynb', 'Hafta_1_Sorular.ipynb', 'Hafta_2_Sorular.ipynb', 'Hafta_3_Sorular.ipynb', 'Hafta_4_Sorular.ipynb', 'names.txt', 'readme.md']\n",
      "True\n"
     ]
    }
   ],
   "source": [
    "import os \n",
    "\n",
    "print(os.listdir())\n",
    "#çalışılan dizindeki dosyaları gösterir.\n",
    "print(os.path.isfile(\"names.txt\")) #bir dosyanın o dziizninde olup olmadığını kontrol eder.\n"
   ]
  },
  {
   "cell_type": "code",
   "execution_count": 9,
   "metadata": {},
   "outputs": [],
   "source": [
    "f = open(r\"C:\\Users\\ilayd\\Desktop\\PYTHON- SİSTERSLAB\\python.projects\\names.txt\",\"w\")\n",
    "for i in range(10):\n",
    "    f.write(\"python\\n\")\n",
    "f.close()\n",
    "\n",
    "\n"
   ]
  },
  {
   "cell_type": "markdown",
   "metadata": {},
   "source": [
    "with open"
   ]
  },
  {
   "cell_type": "code",
   "execution_count": 14,
   "metadata": {},
   "outputs": [
    {
     "name": "stdout",
     "output_type": "stream",
     "text": [
      "tarih 2022-06-22 20:49:50.588215\n",
      "22-06--2022.txt\n",
      "22-2022-20-49-50.txt\n"
     ]
    }
   ],
   "source": [
    "from datetime import datetime as dt \n",
    "\n",
    "x = dt.now()\n",
    "print(\"tarih\", x)\n",
    "\n",
    "#gün ay yıl\n",
    "file_name = x.strftime(\"%d-%m--%Y.txt\")\n",
    "print(file_name)\n",
    "with open(file_name, \"w\") as f:\n",
    "    f.write(\"gün ay yıl seklinde tanımlama yapılımıstır\")\n",
    "\n",
    "#gün ay yıl saat dakika saniye\n",
    "file_name2 = x.strftime(\"%d-%Y-%H-%M-%S.txt\")\n",
    "print(file_name2)\n",
    "with open(file_name2, \"w\") as f2:\n",
    "    f2.write(\"gün ay yıl saat dakika saniye seklinde tanimlanmıistir.\")\n"
   ]
  },
  {
   "cell_type": "markdown",
   "metadata": {},
   "source": [
    "Dosya Okuma"
   ]
  },
  {
   "cell_type": "code",
   "execution_count": 15,
   "metadata": {},
   "outputs": [
    {
     "name": "stdout",
     "output_type": "stream",
     "text": [
      "ayşe\n",
      "fatma\n",
      "ilayda\n",
      "\n"
     ]
    }
   ],
   "source": [
    "f = open(\"names.txt\", \"r\")\n",
    "print(f.read())\n",
    "f.close()\n"
   ]
  },
  {
   "cell_type": "code",
   "execution_count": 16,
   "metadata": {},
   "outputs": [
    {
     "ename": "FileNotFoundError",
     "evalue": "[Errno 2] No such file or directory: 'name.txt'",
     "output_type": "error",
     "traceback": [
      "\u001b[1;31m---------------------------------------------------------------------------\u001b[0m",
      "\u001b[1;31mFileNotFoundError\u001b[0m                         Traceback (most recent call last)",
      "\u001b[1;32m<ipython-input-16-203be94f8031>\u001b[0m in \u001b[0;36m<module>\u001b[1;34m\u001b[0m\n\u001b[1;32m----> 1\u001b[1;33m \u001b[0mf\u001b[0m \u001b[1;33m=\u001b[0m \u001b[0mopen\u001b[0m\u001b[1;33m(\u001b[0m\u001b[1;34m\"name.txt\"\u001b[0m\u001b[1;33m,\u001b[0m \u001b[1;34m\"r\"\u001b[0m\u001b[1;33m)\u001b[0m\u001b[1;33m\u001b[0m\u001b[1;33m\u001b[0m\u001b[0m\n\u001b[0m\u001b[0;32m      2\u001b[0m \u001b[0mprint\u001b[0m\u001b[1;33m(\u001b[0m\u001b[0mf\u001b[0m\u001b[1;33m.\u001b[0m\u001b[0mread\u001b[0m\u001b[1;33m(\u001b[0m\u001b[1;33m)\u001b[0m\u001b[1;33m)\u001b[0m\u001b[1;33m\u001b[0m\u001b[1;33m\u001b[0m\u001b[0m\n\u001b[0;32m      3\u001b[0m \u001b[0mf\u001b[0m\u001b[1;33m.\u001b[0m\u001b[0mclose\u001b[0m\u001b[1;33m(\u001b[0m\u001b[1;33m)\u001b[0m\u001b[1;33m\u001b[0m\u001b[1;33m\u001b[0m\u001b[0m\n",
      "\u001b[1;31mFileNotFoundError\u001b[0m: [Errno 2] No such file or directory: 'name.txt'"
     ]
    }
   ],
   "source": [
    "f = open(\"name.txt\", \"r\")\n",
    "print(f.read())\n",
    "f.close()\n",
    "# öylde bir dosya yok."
   ]
  },
  {
   "cell_type": "code",
   "execution_count": 18,
   "metadata": {},
   "outputs": [
    {
     "name": "stdout",
     "output_type": "stream",
     "text": [
      "dosya aranan dizinde bulunamadi\n"
     ]
    }
   ],
   "source": [
    "import os \n",
    "\n",
    "if os.path.exists(\"name.txt\"):\n",
    "    f = open(\"name.txt\", \"r\")\n",
    "    print(f.read())\n",
    "    f.close()\n",
    "else:\n",
    "    print(\"dosya aranan dizinde bulunamadi\")\n",
    "    "
   ]
  },
  {
   "cell_type": "code",
   "execution_count": 19,
   "metadata": {},
   "outputs": [
    {
     "name": "stdout",
     "output_type": "stream",
     "text": [
      "ayşe\n",
      "fatma\n",
      "ilayda\n",
      "\n"
     ]
    }
   ],
   "source": [
    "with open(\"names.txt\",\"r\") as f:\n",
    "    print(f.read())\n",
    "# \"r\" read okuma erişim modu\n"
   ]
  },
  {
   "cell_type": "markdown",
   "metadata": {},
   "source": [
    "*dosya okuma yöntemleri*\n",
    "\n",
    "readline() --<> satır satır okuma işlemi için kullanilir."
   ]
  },
  {
   "cell_type": "code",
   "execution_count": 24,
   "metadata": {},
   "outputs": [
    {
     "name": "stdout",
     "output_type": "stream",
     "text": [
      "['ayşe\\n', 'fatma\\n', 'ilayda\\n']\n"
     ]
    }
   ],
   "source": [
    "with open(\"names.txt\", \"r\") as f:\n",
    "    lines = f.readlines()\n",
    "print(lines)"
   ]
  },
  {
   "cell_type": "code",
   "execution_count": 25,
   "metadata": {},
   "outputs": [
    {
     "name": "stdout",
     "output_type": "stream",
     "text": [
      "ayşe\n",
      "\n"
     ]
    }
   ],
   "source": [
    "with open(\"names.txt\", \"r\") as f: # dosyanın ilk satirini ekrana basar.\n",
    "    line = f.readline()\n",
    "    print(line)"
   ]
  },
  {
   "cell_type": "code",
   "execution_count": 26,
   "metadata": {},
   "outputs": [
    {
     "name": "stdout",
     "output_type": "stream",
     "text": [
      "ayşe\n",
      "\n",
      "fatma\n",
      "\n",
      "ilayda\n",
      "\n"
     ]
    }
   ],
   "source": [
    "with open(\"names.txt\", \"r\") as f:\n",
    "    lines = f.readlines() #tüm dosyayi okur ve ekrana basar ve liste formatında dönmüş olur\n",
    "    for item in lines:\n",
    "        print(item)"
   ]
  },
  {
   "cell_type": "code",
   "execution_count": 27,
   "metadata": {},
   "outputs": [
    {
     "name": "stdout",
     "output_type": "stream",
     "text": [
      "ayşe\n",
      "fatma\n",
      "ilayda\n",
      "\n"
     ]
    },
    {
     "ename": "UnsupportedOperation",
     "evalue": "not writable",
     "output_type": "error",
     "traceback": [
      "\u001b[1;31m---------------------------------------------------------------------------\u001b[0m",
      "\u001b[1;31mUnsupportedOperation\u001b[0m                      Traceback (most recent call last)",
      "\u001b[1;32m<ipython-input-27-d7f49df4caed>\u001b[0m in \u001b[0;36m<module>\u001b[1;34m\u001b[0m\n\u001b[0;32m      1\u001b[0m \u001b[1;32mwith\u001b[0m \u001b[0mopen\u001b[0m\u001b[1;33m(\u001b[0m\u001b[1;34m\"names.txt\"\u001b[0m\u001b[1;33m,\u001b[0m \u001b[1;34m\"r\"\u001b[0m\u001b[1;33m)\u001b[0m \u001b[1;32mas\u001b[0m \u001b[0mf\u001b[0m\u001b[1;33m:\u001b[0m\u001b[1;33m\u001b[0m\u001b[1;33m\u001b[0m\u001b[0m\n\u001b[0;32m      2\u001b[0m     \u001b[0mprint\u001b[0m\u001b[1;33m(\u001b[0m\u001b[0mf\u001b[0m\u001b[1;33m.\u001b[0m\u001b[0mread\u001b[0m\u001b[1;33m(\u001b[0m\u001b[1;33m)\u001b[0m\u001b[1;33m)\u001b[0m\u001b[1;33m\u001b[0m\u001b[1;33m\u001b[0m\u001b[0m\n\u001b[1;32m----> 3\u001b[1;33m     \u001b[0mf\u001b[0m\u001b[1;33m.\u001b[0m\u001b[0mwrite\u001b[0m\u001b[1;33m(\u001b[0m\u001b[1;34m\"elif\\n\"\u001b[0m\u001b[1;33m)\u001b[0m\u001b[1;33m\u001b[0m\u001b[1;33m\u001b[0m\u001b[0m\n\u001b[0m\u001b[0;32m      4\u001b[0m \u001b[1;31m# bir dosyayi ne amacla kullanacaksak o modda açammız gerekir o erisim modunda.\u001b[0m\u001b[1;33m\u001b[0m\u001b[1;33m\u001b[0m\u001b[1;33m\u001b[0m\u001b[0m\n",
      "\u001b[1;31mUnsupportedOperation\u001b[0m: not writable"
     ]
    }
   ],
   "source": [
    "with open(\"names.txt\", \"r\") as f:\n",
    "    print(f.read())\n",
    "    f.write(\"elif\\n\")\n",
    "# bir dosyayi ne amacla kullanacaksak o modda açammız gerekir o erisim modunda.\n"
   ]
  },
  {
   "cell_type": "code",
   "execution_count": 29,
   "metadata": {},
   "outputs": [
    {
     "name": "stdout",
     "output_type": "stream",
     "text": [
      "ayşe\n",
      "fatma\n",
      "ilayda\n",
      "\n"
     ]
    }
   ],
   "source": [
    "with open(\"names.txt\", \"r+\") as f:\n",
    "    print(f.read())\n",
    "    f.write(\"yagmur\\n\")"
   ]
  },
  {
   "cell_type": "code",
   "execution_count": 31,
   "metadata": {},
   "outputs": [
    {
     "name": "stdout",
     "output_type": "stream",
     "text": [
      "yagmur\n",
      "\n",
      "ilayda\n",
      "\n",
      "fatma\n",
      "\n",
      "ayşe\n",
      "\n"
     ]
    }
   ],
   "source": [
    "with open (\"names.txt\", \"r\") as f:\n",
    "    lines = f.readlines()\n",
    "    for line in reversed(lines):\n",
    "        print(line)"
   ]
  },
  {
   "cell_type": "markdown",
   "metadata": {},
   "source": [
    "**Dosya Yazma**\n",
    "\n",
    "* w -> mevcut dosya varsa yazıyor yoksa dosyayı açıyor sonra yazıyor tek bir satır yazmak için. Dosya yoksa da ilgili dizinde önce dosyayı oluşturur ve sonra yazmaya başlar.\n",
    "* w+ -> Okuma ve yazma amaçlı dosya oluştururlur. r+ ile farkı ilgili dosyanın içeriğini silip yazar. \n",
    "* a -> içeriği silmeden kaybetmeden dosyanın sonundan ekleme yapıyor yeni satır ekliyor.\n",
    "* a+ -> hem okuma hem yazma. w+ farkı dosya mevcutsa içeriğinin üzerine yazmaz. yeni eklenecek veriyi dosyanın sonuna ekleyecek şekilde işlem yapar.\n",
    "* r -> okuma işlemi\n",
    "* r+ -> hem okuma hem yazma işlemi için. DOsya ilgili dizinde yoksa hata verir. Yeni eklenecek veri dosaynın sonuna eklenir."
   ]
  },
  {
   "cell_type": "code",
   "execution_count": 35,
   "metadata": {},
   "outputs": [],
   "source": [
    "names = [\" ali\", \"\\nveli\", \"\\nayşe\" ]\n",
    "with open(\"names.txt\", \"w\") as f:\n",
    "    f.writelines(names)"
   ]
  },
  {
   "cell_type": "code",
   "execution_count": 36,
   "metadata": {},
   "outputs": [],
   "source": [
    "names = [\"\\nali\", \"\\nveli\", \"\\nayşe\" ]\n",
    "with open(\"names.txt\", \"w\") as f:\n",
    "    f.writelines(names)"
   ]
  },
  {
   "cell_type": "markdown",
   "metadata": {},
   "source": [
    "**Dosyada Arama**\n",
    "\n",
    "files.seek(imlec_konumu) \n",
    "\n",
    "* f.seek(8) -> 8 karaker ileriye taşımış oluruz. \n",
    "* f.seek(0,2) -> imleci dosyanın sonuna götürmek icin kullanırız.\n",
    "* f.seek(4,1) -> burada 1 ise dosya işaretçisinin geçerli konumunu koruyarak 4 karakter ilerle"
   ]
  },
  {
   "cell_type": "code",
   "execution_count": 41,
   "metadata": {},
   "outputs": [
    {
     "name": "stdout",
     "output_type": "stream",
     "text": [
      "ali\n",
      "veli\n",
      "ayşe\n"
     ]
    }
   ],
   "source": [
    "with open(\"names.txt\", \"r\") as f:\n",
    "    f.seek(2)\n",
    "    print(f.read())\n",
    "    "
   ]
  },
  {
   "cell_type": "code",
   "execution_count": 42,
   "metadata": {},
   "outputs": [
    {
     "name": "stdout",
     "output_type": "stream",
     "text": [
      "\n"
     ]
    }
   ],
   "source": [
    "with open(\"names.txt\", \"r\") as f:\n",
    "    f.seek(0,2)\n",
    "    print(f.read())\n"
   ]
  },
  {
   "cell_type": "markdown",
   "metadata": {},
   "source": [
    "**dosyayı yeniden adlandırma**\n"
   ]
  },
  {
   "cell_type": "code",
   "execution_count": 43,
   "metadata": {},
   "outputs": [],
   "source": [
    "with open(\"names.txt\", \"w\") as f:\n",
    "    f.write(\"Python\")\n",
    "    "
   ]
  },
  {
   "cell_type": "code",
   "execution_count": 47,
   "metadata": {},
   "outputs": [
    {
     "ename": "PermissionError",
     "evalue": "[WinError 32] Dosya başka bir işlem tarafından kullanıldığından bu işlem dosyaya erişemiyor: 'names.txt' -> 'name_list.txt'",
     "output_type": "error",
     "traceback": [
      "\u001b[1;31m---------------------------------------------------------------------------\u001b[0m",
      "\u001b[1;31mPermissionError\u001b[0m                           Traceback (most recent call last)",
      "\u001b[1;32m<ipython-input-47-354a66d6d985>\u001b[0m in \u001b[0;36m<module>\u001b[1;34m\u001b[0m\n\u001b[0;32m      1\u001b[0m \u001b[1;32mimport\u001b[0m \u001b[0mos\u001b[0m\u001b[1;33m\u001b[0m\u001b[1;33m\u001b[0m\u001b[0m\n\u001b[0;32m      2\u001b[0m \u001b[1;33m\u001b[0m\u001b[0m\n\u001b[1;32m----> 3\u001b[1;33m \u001b[0mos\u001b[0m\u001b[1;33m.\u001b[0m\u001b[0mrename\u001b[0m\u001b[1;33m(\u001b[0m\u001b[1;34m\"names.txt\"\u001b[0m\u001b[1;33m,\u001b[0m \u001b[1;34m\"name_list.txt\"\u001b[0m\u001b[1;33m)\u001b[0m\u001b[1;33m\u001b[0m\u001b[1;33m\u001b[0m\u001b[0m\n\u001b[0m",
      "\u001b[1;31mPermissionError\u001b[0m: [WinError 32] Dosya başka bir işlem tarafından kullanıldığından bu işlem dosyaya erişemiyor: 'names.txt' -> 'name_list.txt'"
     ]
    }
   ],
   "source": [
    "import os \n",
    "\n",
    "os.rename(\"names.txt\", \"name_list.txt\")\n"
   ]
  },
  {
   "cell_type": "code",
   "execution_count": 48,
   "metadata": {},
   "outputs": [
    {
     "ename": "PermissionError",
     "evalue": "[WinError 32] Dosya başka bir işlem tarafından kullanıldığından bu işlem dosyaya erişemiyor: 'names.txt' -> 'names_list.txt'",
     "output_type": "error",
     "traceback": [
      "\u001b[1;31m---------------------------------------------------------------------------\u001b[0m",
      "\u001b[1;31mPermissionError\u001b[0m                           Traceback (most recent call last)",
      "\u001b[1;32m<ipython-input-48-6831188f7192>\u001b[0m in \u001b[0;36m<module>\u001b[1;34m\u001b[0m\n\u001b[0;32m      2\u001b[0m \u001b[1;33m\u001b[0m\u001b[0m\n\u001b[0;32m      3\u001b[0m \u001b[1;32mif\u001b[0m \u001b[0mos\u001b[0m\u001b[1;33m.\u001b[0m\u001b[0mpath\u001b[0m\u001b[1;33m.\u001b[0m\u001b[0mexists\u001b[0m\u001b[1;33m(\u001b[0m\u001b[1;34m\"names.txt\"\u001b[0m\u001b[1;33m)\u001b[0m\u001b[1;33m:\u001b[0m\u001b[1;33m\u001b[0m\u001b[1;33m\u001b[0m\u001b[0m\n\u001b[1;32m----> 4\u001b[1;33m     \u001b[0mos\u001b[0m\u001b[1;33m.\u001b[0m\u001b[0mrename\u001b[0m\u001b[1;33m(\u001b[0m\u001b[1;34m\"names.txt\"\u001b[0m\u001b[1;33m,\u001b[0m \u001b[1;34m\"names_list.txt\"\u001b[0m\u001b[1;33m)\u001b[0m\u001b[1;33m\u001b[0m\u001b[1;33m\u001b[0m\u001b[0m\n\u001b[0m\u001b[0;32m      5\u001b[0m \u001b[1;32melse\u001b[0m\u001b[1;33m:\u001b[0m\u001b[1;33m\u001b[0m\u001b[1;33m\u001b[0m\u001b[0m\n\u001b[0;32m      6\u001b[0m     \u001b[0mprint\u001b[0m\u001b[1;33m(\u001b[0m\u001b[1;34m\"dosya bulunamadi\"\u001b[0m\u001b[1;33m)\u001b[0m\u001b[1;33m\u001b[0m\u001b[1;33m\u001b[0m\u001b[0m\n",
      "\u001b[1;31mPermissionError\u001b[0m: [WinError 32] Dosya başka bir işlem tarafından kullanıldığından bu işlem dosyaya erişemiyor: 'names.txt' -> 'names_list.txt'"
     ]
    }
   ],
   "source": [
    "import os \n",
    "\n",
    "if os.path.exists(\"names.txt\"):\n",
    "    os.rename(\"names.txt\", \"names_list.txt\")\n",
    "else: \n",
    "    print(\"dosya bulunamadi\")"
   ]
  },
  {
   "cell_type": "markdown",
   "metadata": {},
   "source": [
    "**dosya silme işlemi**\n",
    "\n"
   ]
  },
  {
   "cell_type": "code",
   "execution_count": null,
   "metadata": {},
   "outputs": [],
   "source": [
    "import os \n",
    "os.remove(\"names.txt\")\n"
   ]
  }
 ],
 "metadata": {
  "kernelspec": {
   "display_name": "Python 3.8.5 ('base')",
   "language": "python",
   "name": "python3"
  },
  "language_info": {
   "codemirror_mode": {
    "name": "ipython",
    "version": 3
   },
   "file_extension": ".py",
   "mimetype": "text/x-python",
   "name": "python",
   "nbconvert_exporter": "python",
   "pygments_lexer": "ipython3",
   "version": "3.8.5"
  },
  "orig_nbformat": 4,
  "vscode": {
   "interpreter": {
    "hash": "9d6ce5ea9b30afa84a0bdd15adcfa687f418b99b4b035176b67360f86967787b"
   }
  }
 },
 "nbformat": 4,
 "nbformat_minor": 2
}
