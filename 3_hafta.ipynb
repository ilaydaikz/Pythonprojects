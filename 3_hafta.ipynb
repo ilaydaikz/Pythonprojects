{
 "cells": [
  {
   "cell_type": "code",
   "execution_count": 33,
   "metadata": {},
   "outputs": [
    {
     "name": "stdout",
     "output_type": "stream",
     "text": [
      "12\n"
     ]
    }
   ],
   "source": [
    "#iki sayının geri döndüren fonksyion\n",
    "def add(num1, num2):\n",
    "    result = num1 + num2\n",
    "    return result\n",
    "result = add(3,9)\n",
    "print(result)\n",
    "\n",
    "\n"
   ]
  },
  {
   "cell_type": "code",
   "execution_count": null,
   "metadata": {},
   "outputs": [],
   "source": []
  },
  {
   "cell_type": "code",
   "execution_count": 34,
   "metadata": {},
   "outputs": [
    {
     "name": "stdout",
     "output_type": "stream",
     "text": [
      "12\n"
     ]
    }
   ],
   "source": [
    "def add(num1,num2):\n",
    "    return num1 + num2 \n",
    "\n",
    "print (add(3,9))\n",
    "\n"
   ]
  },
  {
   "cell_type": "code",
   "execution_count": 35,
   "metadata": {},
   "outputs": [
    {
     "name": "stdout",
     "output_type": "stream",
     "text": [
      "11\n"
     ]
    }
   ],
   "source": [
    "from random import randint\n",
    "\n",
    "print(randint(10,20))\n"
   ]
  },
  {
   "cell_type": "code",
   "execution_count": 1,
   "metadata": {},
   "outputs": [
    {
     "name": "stdout",
     "output_type": "stream",
     "text": [
      "pythonpythonpythonpythonpythonpython\n"
     ]
    }
   ],
   "source": [
    "var = \"python\" * 2 * 3\n",
    "print(var)\n"
   ]
  },
  {
   "cell_type": "code",
   "execution_count": 36,
   "metadata": {},
   "outputs": [
    {
     "name": "stdout",
     "output_type": "stream",
     "text": [
      "toplama: 12\n",
      "çıkarma: 8\n",
      "çarpma: 20\n",
      "float bolme: 5.0\n",
      "int bolme: 5\n"
     ]
    }
   ],
   "source": [
    "#4 işlemle hesap makinesi yapma\n",
    "def calculater(num1, num2):\n",
    "    add = num1 + num2\n",
    "    sub = num1 - num2\n",
    "    multiplay = num1 * num2\n",
    "    div = num1 / num2 #float olarak bölme\n",
    "    intdiv = num1 // num2 #int olarak bolme\n",
    "    \n",
    "    return add, sub, multiplay, div, intdiv\n",
    "a,b,c,d,e = calculater(10, 2)\n",
    "print(\"toplama:\", a)\n",
    "print(\"çıkarma:\", b)\n",
    "print(\"çarpma:\", c)\n",
    "print(\"float bolme:\", d)\n",
    "print(\"int bolme:\", e)\n",
    "\n",
    "\n"
   ]
  },
  {
   "cell_type": "code",
   "execution_count": 37,
   "metadata": {},
   "outputs": [
    {
     "ename": "NameError",
     "evalue": "name 'local_variable' is not defined",
     "output_type": "error",
     "traceback": [
      "\u001b[1;31m---------------------------------------------------------------------------\u001b[0m",
      "\u001b[1;31mNameError\u001b[0m                                 Traceback (most recent call last)",
      "\u001b[1;32m<ipython-input-37-7bd576bf8bd4>\u001b[0m in \u001b[0;36m<module>\u001b[1;34m\u001b[0m\n\u001b[0;32m      4\u001b[0m \u001b[1;32mdef\u001b[0m \u001b[0mfunc\u001b[0m\u001b[1;33m(\u001b[0m\u001b[1;33m)\u001b[0m\u001b[1;33m:\u001b[0m\u001b[1;33m\u001b[0m\u001b[1;33m\u001b[0m\u001b[0m\n\u001b[0;32m      5\u001b[0m     \u001b[0mlocal_variable\u001b[0m \u001b[1;33m=\u001b[0m \u001b[1;34m\"Yerel\"\u001b[0m\u001b[1;33m\u001b[0m\u001b[1;33m\u001b[0m\u001b[0m\n\u001b[1;32m----> 6\u001b[1;33m \u001b[0mprint\u001b[0m\u001b[1;33m(\u001b[0m\u001b[1;34m\"fonksiyon içeriisnde global değişken {} fonksiyon içeriisnde yerel değişken {} \"\u001b[0m\u001b[1;33m.\u001b[0m\u001b[0mformat\u001b[0m\u001b[1;33m(\u001b[0m\u001b[0mglobal_variable\u001b[0m\u001b[1;33m,\u001b[0m \u001b[0mlocal_variable\u001b[0m\u001b[1;33m)\u001b[0m\u001b[1;33m)\u001b[0m\u001b[1;33m\u001b[0m\u001b[1;33m\u001b[0m\u001b[0m\n\u001b[0m\u001b[0;32m      7\u001b[0m \u001b[1;33m\u001b[0m\u001b[0m\n",
      "\u001b[1;31mNameError\u001b[0m: name 'local_variable' is not defined"
     ]
    }
   ],
   "source": [
    "#fonksiyonlar içeriisnde değişkenlerin kapsamı\n",
    "global_variable = \" global\"\n",
    "\n",
    "def func():\n",
    "    local_variable = \"Yerel\"\n",
    "print(\"fonksiyon içeriisnde global değişken {} fonksiyon içeriisnde yerel değişken {} \".format(global_variable, local_variable))\n",
    "\n"
   ]
  },
  {
   "cell_type": "code",
   "execution_count": null,
   "metadata": {},
   "outputs": [],
   "source": [
    "def print _a():\n",
    "    print(a)\n",
    "    \n"
   ]
  },
  {
   "cell_type": "code",
   "execution_count": null,
   "metadata": {},
   "outputs": [],
   "source": [
    "def sayHello(name= \"katilimcilar\"):\n",
    "    print(\"hello\", name)\n",
    "sayHello(\"Aysel\")\n",
    "sayHello(\"ilayda\")\n"
   ]
  },
  {
   "cell_type": "code",
   "execution_count": null,
   "metadata": {},
   "outputs": [
    {
     "name": "stdout",
     "output_type": "stream",
     "text": [
      "toplam:  1\n",
      "toplam:  5\n",
      "toplam:  11\n",
      "toplam:  14\n",
      "toplam:  49\n",
      "toplam:  51.4\n"
     ]
    }
   ],
   "source": [
    "#parametre  olarak gelen değerlerin toplamını veren fonksyion\n",
    "def add(*numbers):\n",
    "   total = 0\n",
    "   for i in numbers:\n",
    "       total = total +i #total+ =\n",
    "       print(\"toplam: \", total)\n",
    "\n",
    "#0 parametre\n",
    "add()\n",
    "#4 parametre\n",
    "add(1, 4, 6, 3)\n",
    "#2 parametreli\n",
    "add(49, 2.4)\n"
   ]
  },
  {
   "cell_type": "code",
   "execution_count": 38,
   "metadata": {},
   "outputs": [
    {
     "name": "stdout",
     "output_type": "stream",
     "text": [
      "1 ile 9 arasindaki çift sayilar: \n",
      "2\n",
      "ortalama  2.0\n",
      "4\n",
      "ortalama  3.0\n",
      "6\n",
      "ortalama  4.0\n",
      "8\n",
      "ortalama  5.0\n"
     ]
    }
   ],
   "source": [
    "\n",
    "#kullanıcının girdigi 2 sayi arasındaki çift sayiları ekrana ayzdır,ardından sayıların ortalamasınhesapla.d\n",
    "def is_even(num):\n",
    "    if num % 2 == 0:\n",
    "        return True\n",
    "    else:\n",
    "        return False\n",
    "\"\"\"\"\"\n",
    "def is_odd(num):\n",
    "    return num % 2 != 0:\n",
    "\"\"\"\n",
    "total = 0\n",
    "count = 0\n",
    "first = int(input(\"baslangıc degeri \"))\n",
    "last =  int(input(\"bitis degeri \"))\n",
    "print(\"{} ile {} arasindaki çift sayilar: \".format(first, last))\n",
    "for i in range(first, last+1):\n",
    "    if is_even(i): \n",
    "       print(i)\n",
    "       total+= i\n",
    "       count+= 1\n",
    "       print(\"ortalama \", total / count)\n",
    "\n"
   ]
  },
  {
   "cell_type": "markdown",
   "metadata": {},
   "source": []
  },
  {
   "cell_type": "code",
   "execution_count": null,
   "metadata": {},
   "outputs": [],
   "source": [
    "#bir sayının asal olup olmadığını bir fonk ile bas\n",
    "def asalsayi():\n",
    "    sayi = int(input(\"Sayıyı Girin : \"))\n",
    "    if sayi > 1:\n",
    "        for i in range(2, sayi):\n",
    "            if sayi % i == 0:\n",
    "                print(sayi, \" Asal Sayı Değildir.\")\n",
    "                break\n",
    "        else:\n",
    "            print(sayi, \" Asal Sayıdır.\")\n",
    "    else:\n",
    "        print(sayi, \" Asal Sayı Değildir.\")\n",
    "asalsayi()"
   ]
  },
  {
   "cell_type": "code",
   "execution_count": 39,
   "metadata": {},
   "outputs": [
    {
     "data": {
      "text/plain": [
       "'sayi asaldir'"
      ]
     },
     "execution_count": 39,
     "metadata": {},
     "output_type": "execute_result"
    }
   ],
   "source": [
    "def asal(num):\n",
    "    i = 2\n",
    "    while i < num:\n",
    "        if num % i== 0:\n",
    "            return \"asal degil\" \n",
    "        i +=1 \n",
    "    else: return \"sayi asaldir\"\n",
    "asal(17)\n",
    "\n",
    "\n"
   ]
  },
  {
   "cell_type": "code",
   "execution_count": 40,
   "metadata": {},
   "outputs": [
    {
     "name": "stdout",
     "output_type": "stream",
     "text": [
      "[3, 17]\n"
     ]
    }
   ],
   "source": [
    "#girilen degerin asal carpanlarini yazz\n",
    "def asal(num):\n",
    "    i = 2\n",
    "    while i < num:\n",
    "        if num % i== 0:\n",
    "            return False \n",
    "        i +=1 \n",
    "    else:\n",
    "        return True\n",
    "def asalCarpan(n):\n",
    "    carpanlar = []#bos liste\n",
    "    j = 2 \n",
    "    while n >  1:\n",
    "        if n % j == 0 and asal(j):\n",
    "            carpanlar.append(j)\n",
    "            n /= j\n",
    "        j += 1\n",
    "    return carpanlar \n",
    "\n",
    "\n",
    "print(asalCarpan(51))\n",
    "\n",
    "\n"
   ]
  },
  {
   "cell_type": "code",
   "execution_count": null,
   "metadata": {},
   "outputs": [],
   "source": [
    "#sayi tahmin oyunu guess adında bir fonk bir parametre alacak input ile bir tahminde bulun\n",
    "#alınnan değer ile bilg değeri aynı mı bak\n",
    "from random import randint\n",
    " \n",
    "def get_random_sayi():\n",
    "    return randint(1,100)\n",
    "print(get_random_sayi())\n",
    "guess=0\n",
    " \n",
    "while True:\n",
    "    guess+=1\n",
    "    sayi=int(input(\"1 ile 100 arasında değer girin ,0  ile Çıkın):\"))\n",
    "    if(sayi==0):\n",
    "        print(\"Oyun Bitti\")\n",
    "        break\n",
    "    elif sayi < guess:\n",
    "        print(\"Daha büyük sayı girmen lazım\")\n",
    "    elif sayi > guess:\n",
    "        print(\"Daha düşük sayı girmen lazım\")\n",
    "    else:\n",
    "        print(\"random sayı {0}!\".format(get_random_sayi))\n",
    "        print(\"Tahmin ettiğiniz {0}\".format(guess))\n",
    "\n",
    "\n"
   ]
  },
  {
   "cell_type": "code",
   "execution_count": null,
   "metadata": {},
   "outputs": [],
   "source": [
    "def guess(num):\n",
    "    count = 1\n",
    "    random_number = int(input(\"sayi gir:\"))\n",
    "    while num != random_number:\n",
    "        count += 1\n",
    "        if num < random_number:\n",
    "            print(\"daha kücük sayi gir\")\n",
    "        else: \n",
    "            print(\"üzgünüm daha buyuk bir sayi tahmin edin\")\n",
    "        random_number = int(input(\"sayi gir:\"))\n",
    "    else:\n",
    "        print(f\"tebrikler, {count}. denemede doğru tahmin!\")\n",
    "guess(18)\n",
    "\n",
    "        "
   ]
  },
  {
   "cell_type": "code",
   "execution_count": null,
   "metadata": {},
   "outputs": [],
   "source": [
    "\n",
    "import random \n",
    "def guess(num):\n",
    "    count = 1\n",
    "    random_number = int(input(\"sayi gir:\"))\n",
    "    while num != random_number:\n",
    "        count += 1\n",
    "        if num < random_number:\n",
    "            print(\"daha kücük sayi gir\")\n",
    "        else: \n",
    "            print(\"üzgünüm daha buyuk bir sayi tahmin edin\")\n",
    "        random_number = int(input(\"sayi gir:\"))\n",
    "    else:\n",
    "        print(f\"tebrikler, {count}. denemede doğru tahmin!\")\n",
    "guess(random.randint(1,100))\n",
    "\n",
    "\n"
   ]
  },
  {
   "cell_type": "code",
   "execution_count": null,
   "metadata": {},
   "outputs": [],
   "source": [
    "#computer guess\n",
    "import random\n",
    "\n",
    "def computer_guess(num):\n",
    "    start, end = 1, 100\n",
    "    back = ' '\n",
    "    while back != \"d\":\n",
    "        if start <= end:\n",
    "             guess = random.randint(start,end)\n",
    "        else:\n",
    "            guess = start\n",
    "        back = input(f\" tahminde bulundugun deger {guess}, buyukse b, kucukse k, dogruysa diye blirt.\")\n",
    "        if back == 'b':\n",
    "            end = guess -1\n",
    "        elif back == 'k':\n",
    "            start = guess + 1\n",
    "        elif back  != 'd': \n",
    "            print(\"yanlıs ifade kullandiniz.\")\n",
    "    print('tebrikler dogru tahmin')\n",
    "\n",
    "computer_guess(9)\n"
   ]
  },
  {
   "cell_type": "code",
   "execution_count": null,
   "metadata": {},
   "outputs": [],
   "source": [
    "#tas kagıt makas, tas makası, makas kagıdı yener.kagıt taşı yener.\n",
    "import random\n",
    "\n",
    "player_score , computer_score = 0,0\n",
    "\n",
    "print(\"tas kafıt makas oyununu hosgeldin\\n\"+ (\"-\" * 39))\n",
    "\n",
    "\n"
   ]
  },
  {
   "cell_type": "code",
   "execution_count": null,
   "metadata": {},
   "outputs": [],
   "source": [
    "import random\n",
    "\n",
    "player_score, computer_score = 0, 0\n",
    "\n",
    "def print_result(computer_choice, winner = \"Bilgisayar\"):\n",
    "    global computer_score , player_score\n",
    "    print(f'Bilgisayarın Seçimi: {computer_choice}\\nKazanan: {winner}')\n",
    "\n",
    "    if winner == \"Bilgisayar\":\n",
    "        computer_score += 100\n",
    "    else:\n",
    "        player_score += 100\n",
    "\n",
    "print(\"Taş Kağıt Makas Oyunumuza Hoş Geldiniz!\\n\" + (\"-\" * 39))\n",
    "\n",
    "while True:\n",
    "    print(\"\\n 1 -> Taş\\n 2 -> Kağıt\\n 3 -> Makas\\n Oyundan çıkmak isterseniz bu değerler dışında bir değer giriniz\")\n",
    "    player_choice = int(input(\"Seçiminizi Yapınız: \"))\n",
    "    computer_choice = random.choice([1, 2, 3])\n",
    "    \n",
    "    if player_choice == computer_choice:\n",
    "        print(\"Berabere, yeniden oynayınız\")\n",
    "    elif player_choice == 1:\n",
    "        if computer_choice == 2:\n",
    "            print_result(computer_ch1\n",
    "            ice)\n",
    "        else:\n",
    "            print_result(computer_choice, \"Kullanıcı\")\n",
    "    elif player_choice == 2:\n",
    "        if computer_choice == 1:\n",
    "            print_result(computer_choice, \"Kullanıcı\")\n",
    "        else:\n",
    "            print_result(computer_choice)\n",
    "    elif player_choice == 3:\n",
    "        if computer_choice == 1:\n",
    "            print_result(computer_choice)\n",
    "        else:\n",
    "            print_result(computer_choice, \"Kullanıcı\")\n",
    "    else:\n",
    "        break\n",
    "\n",
    "print(f'\\nKullanıcı skoru: {player_score}\\nBilgisayarın skoru: {computer_score}')\n",
    "\n"
   ]
  },
  {
   "cell_type": "code",
   "execution_count": 5,
   "metadata": {},
   "outputs": [
    {
     "data": {
      "text/plain": [
       "120"
      ]
     },
     "execution_count": 5,
     "metadata": {},
     "output_type": "execute_result"
    }
   ],
   "source": [
    "#PYTHONDA Modüller\n",
    "import math as m\n",
    "\n",
    "m.factorial(5)\n",
    "print(x)\n",
    "print(m.factorial(6))\n",
    "\n"
   ]
  },
  {
   "cell_type": "code",
   "execution_count": 6,
   "metadata": {},
   "outputs": [
    {
     "name": "stdout",
     "output_type": "stream",
     "text": [
      "120\n"
     ]
    }
   ],
   "source": [
    "from math import factorial\n",
    "\n",
    "print(factorial(5))\n"
   ]
  },
  {
   "cell_type": "code",
   "execution_count": 7,
   "metadata": {},
   "outputs": [
    {
     "name": "stdout",
     "output_type": "stream",
     "text": [
      "120\n"
     ]
    }
   ],
   "source": [
    "from math import factorial as f\n",
    "\n",
    "print(f(5))\n"
   ]
  },
  {
   "cell_type": "markdown",
   "metadata": {},
   "source": [
    "veri yapıları\n",
    "list\n",
    "tuple\n",
    "set\n",
    "dictionary\n",
    "\n",
    "**LİSTS**\n",
    "* index ile erişebilirler, ordered yani sıralıdırlar. \n",
    "değiştirilebilirler.(mutuable) yani liste içine eklediğiniz bir veriyi değiştirebilirisniz.\n",
    "* köşeli parantezlerle tanımlanıyor. [ ] liste lemnaları virgüllerlle birbirinden ayrılırlar\n",
    "* farklı tipte veriler içerebilir. string, int, float \n",
    "* aynı değerlere sahip iki ögeye sahip olabilirler yani duplicate veri olabilirler.\n",
    "\n",
    "\n",
    "\n"
   ]
  },
  {
   "cell_type": "code",
   "execution_count": 9,
   "metadata": {},
   "outputs": [],
   "source": [
    "list_int = [1, 2, 5, 6, 6]\n",
    "list_string = [\"ceren\", \"ceyda\"]\n",
    "list_bool = [True, False]\n",
    "list_float = [3.14, 12, 7, 87,3]\n",
    "\n",
    "list_mix = [\"ceren\", 2, True, 3.14, \"ceyda\", 6, False]\n"
   ]
  },
  {
   "cell_type": "code",
   "execution_count": 11,
   "metadata": {},
   "outputs": [
    {
     "name": "stdout",
     "output_type": "stream",
     "text": [
      "['ceren', 2, True, 3.14, 'ceyda', 6, False]\n",
      "0. index degeri:  ceren\n",
      "2. index degeri:  True\n",
      "--------------------\n",
      "-. index degeri:  False\n",
      "-3. index değeri:  ceyda\n"
     ]
    }
   ],
   "source": [
    "print(list_mix)\n",
    "print(\"0. index degeri: \", list_mix[0])\n",
    "print(\"2. index degeri: \", list_mix[2])\n",
    "#neg indexler ile erişim sağlanabiliyor.\n",
    "print(\"-\"*20)\n",
    "print(\"-. index degeri: \", list_mix[-1])\n",
    "print(\"-3. index değeri: \", list_mix[-3])\n"
   ]
  },
  {
   "cell_type": "code",
   "execution_count": null,
   "metadata": {},
   "outputs": [],
   "source": [
    "list_mix[7] #liste uzunluğundan daha büyük bir öğeye erişmeye çalıştığımızda 'index error' hatası alırız"
   ]
  },
  {
   "cell_type": "code",
   "execution_count": null,
   "metadata": {},
   "outputs": [],
   "source": [
    "list_mix[4.5]\n",
    "#TYPE ERROR HATASI VERİR!!"
   ]
  },
  {
   "cell_type": "code",
   "execution_count": 14,
   "metadata": {},
   "outputs": [
    {
     "name": "stdout",
     "output_type": "stream",
     "text": [
      "listemin uzunluğu 4\n",
      "listemin 2.  indexteki uzunluğu 6\n"
     ]
    }
   ],
   "source": [
    "my_list = [1, 'x', \"fadime\", True]\n",
    "\n",
    "print(\"listemin uzunluğu\", len(my_list))\n",
    "print(\"listemin 2.  indexteki uzunluğu\", len(my_list[2]))\n",
    "print(\"1. indexteki elemanın tipi,\", type(my_list[1]))\n"
   ]
  },
  {
   "cell_type": "markdown",
   "metadata": {},
   "source": []
  },
  {
   "cell_type": "markdown",
   "metadata": {},
   "source": [
    "**slicing**"
   ]
  },
  {
   "cell_type": "code",
   "execution_count": 16,
   "metadata": {},
   "outputs": [
    {
     "name": "stdout",
     "output_type": "stream",
     "text": [
      "['buket', 30, 'sisterslab', 12.4, True, 23, 34.9]\n",
      "['sisterslab', 12.4, True]\n",
      "['buket', 30, 'sisterslab', 12.4]\n"
     ]
    }
   ],
   "source": [
    "my_list =[\"buket\", 30, \"sisterslab\", 12.40,True, 23, 34.9 ]\n",
    "\n",
    "print(my_list)\n",
    "print(my_list[2:5])\n",
    "#ilk dört elemanı ekrana basalim.\n",
    "print(my_list[ :4])\n"
   ]
  },
  {
   "cell_type": "code",
   "execution_count": 17,
   "metadata": {},
   "outputs": [
    {
     "name": "stdout",
     "output_type": "stream",
     "text": [
      "['buket', 'sisterslab', True, 34.9]\n"
     ]
    }
   ],
   "source": [
    "# her iki elemanda bir atlayarak ilerlesin\n",
    "print(my_list[::2])"
   ]
  },
  {
   "cell_type": "code",
   "execution_count": 18,
   "metadata": {},
   "outputs": [
    {
     "name": "stdout",
     "output_type": "stream",
     "text": [
      "[34.9, 23, True, 12.4, 'sisterslab', 30, 'buket']\n"
     ]
    }
   ],
   "source": [
    "#listeyi terstte yazdiralim\n",
    "print(my_list[::-1])"
   ]
  },
  {
   "cell_type": "code",
   "execution_count": 20,
   "metadata": {},
   "outputs": [
    {
     "name": "stdout",
     "output_type": "stream",
     "text": [
      "[True, 23, 34.9]\n"
     ]
    }
   ],
   "source": [
    "# dördüncü elemandan sonraki elemanı bassın\n",
    "print(my_list[4:])\n"
   ]
  },
  {
   "cell_type": "code",
   "execution_count": 21,
   "metadata": {},
   "outputs": [
    {
     "name": "stdout",
     "output_type": "stream",
     "text": [
      "buket\n",
      "30\n",
      "sisterslab\n",
      "12.4\n",
      "True\n",
      "23\n",
      "34.9\n"
     ]
    }
   ],
   "source": [
    "#döngü ile listenin elemanlarını ekrara bas\n",
    "\n",
    "for item in my_list: \n",
    "    print(item)\n"
   ]
  },
  {
   "cell_type": "code",
   "execution_count": 22,
   "metadata": {},
   "outputs": [
    {
     "name": "stdout",
     "output_type": "stream",
     "text": [
      "buket 30 sisterslab 12.4 True 23 34.9 "
     ]
    }
   ],
   "source": [
    "# yan yana yazdirma\n",
    "for i in my_list :\n",
    "    print(i, end= \" \")\n",
    "    "
   ]
  },
  {
   "cell_type": "code",
   "execution_count": 24,
   "metadata": {},
   "outputs": [
    {
     "name": "stdout",
     "output_type": "stream",
     "text": [
      "0. index degeri: buket\n",
      "1. index degeri: 30\n",
      "2. index degeri: sisterslab\n",
      "3. index degeri: 12.4\n",
      "4. index degeri: True\n",
      "5. index degeri: 23\n",
      "6. index degeri: 34.9\n"
     ]
    }
   ],
   "source": [
    "for i in range(len(my_list)):\n",
    "    print(f'{i}. index degeri: {my_list[i]}')\n",
    "    # print(f'{i}. index degeri: {my_list[i]}') sen yaz\n",
    "    \n"
   ]
  },
  {
   "cell_type": "markdown",
   "metadata": {},
   "source": [
    "**listeye eleman ekleme**\n",
    "**append()** -> lisenin sonuna yeni elemanı ekler"
   ]
  },
  {
   "cell_type": "code",
   "execution_count": 25,
   "metadata": {},
   "outputs": [
    {
     "name": "stdout",
     "output_type": "stream",
     "text": [
      "['buket', 30, 'sisterslab', 12.4, True, 23, 34.9]\n",
      "['buket', 30, 'sisterslab', 12.4, True, 23, 34.9, 10]\n"
     ]
    }
   ],
   "source": [
    "print(my_list)\n",
    "my_list.append(10)\n",
    "print(my_list)\n"
   ]
  },
  {
   "cell_type": "markdown",
   "metadata": {},
   "source": [
    "**insert()** elemanı lsitede konumlandırmak istediğiniz yere ekler. liste kaydırılıdgı için iki parametre ister.\n"
   ]
  },
  {
   "cell_type": "markdown",
   "metadata": {},
   "source": [
    "insert(index,value)"
   ]
  },
  {
   "cell_type": "code",
   "execution_count": 26,
   "metadata": {},
   "outputs": [
    {
     "name": "stdout",
     "output_type": "stream",
     "text": [
      "['buket', 30, 'sisterslab', 12.4, True, 23, 34.9, 10]\n",
      "['nurefşan', 'buket', 30, 'sisterslab', 12.4, True, 23, 34.9, 10]\n"
     ]
    }
   ],
   "source": [
    "print(my_list)\n",
    "\n",
    "my_list.insert(0, \"nurefşan\")\n",
    "print(my_list)\n"
   ]
  },
  {
   "cell_type": "markdown",
   "metadata": {},
   "source": [
    "**extend() listenin sonuna ekleme yapar**"
   ]
  },
  {
   "cell_type": "code",
   "execution_count": 27,
   "metadata": {},
   "outputs": [
    {
     "name": "stdout",
     "output_type": "stream",
     "text": [
      "['nurefşan', 'buket', 30, 'sisterslab', 12.4, True, 23, 34.9, 10]\n",
      "['nurefşan', 'buket', 30, 'sisterslab', 12.4, True, 23, 34.9, 10, 1, 2, 4]\n"
     ]
    }
   ],
   "source": [
    "print(my_list)\n",
    "my_list.extend([1, 2, 4])\n",
    "print(my_list)\n"
   ]
  },
  {
   "cell_type": "markdown",
   "metadata": {},
   "source": [
    "liste elemanları üzerinde değişiklikler\n"
   ]
  },
  {
   "cell_type": "code",
   "execution_count": 29,
   "metadata": {},
   "outputs": [
    {
     "name": "stdout",
     "output_type": "stream",
     "text": [
      "['nurefşan', 'buket', 30, 'sisterslab', 12.4, True, 23, 34.9, 10, 1, 2, 4]\n",
      "['nurefşan', 'ilkay', 30, 'sisterslab', 12.4, True, 23, 34.9, 10, 1, 2, 4]\n"
     ]
    }
   ],
   "source": [
    "print(my_list)\n",
    "\n",
    "my_list[1]= \"ilkay\"\n",
    "print(my_list)"
   ]
  },
  {
   "cell_type": "code",
   "execution_count": 10,
   "metadata": {},
   "outputs": [],
   "source": [
    "def hepsini_topla(a,b):\n",
    "    toplam =a+b\n",
    "    return toplam\n",
    "\n",
    "\n",
    "\n",
    "\n",
    "\n",
    "\n",
    "\n",
    "\n",
    "\n",
    "\n",
    "\n",
    "\n"
   ]
  },
  {
   "cell_type": "code",
   "execution_count": 13,
   "metadata": {},
   "outputs": [],
   "source": [
    "def hepsini_topla(*numbers):\n",
    "    toplam=0\n",
    "    for i in numbers:\n",
    "        toplam+=i\n",
    "        return toplam"
   ]
  },
  {
   "cell_type": "code",
   "execution_count": 14,
   "metadata": {},
   "outputs": [
    {
     "data": {
      "text/plain": [
       "1"
      ]
     },
     "execution_count": 14,
     "metadata": {},
     "output_type": "execute_result"
    }
   ],
   "source": [
    "hepsini_topla(1,2)\n"
   ]
  },
  {
   "cell_type": "code",
   "execution_count": 18,
   "metadata": {},
   "outputs": [
    {
     "ename": "IndentationError",
     "evalue": "expected an indented block (<ipython-input-18-d705657914eb>, line 11)",
     "output_type": "error",
     "traceback": [
      "\u001b[1;36m  File \u001b[1;32m\"<ipython-input-18-d705657914eb>\"\u001b[1;36m, line \u001b[1;32m11\u001b[0m\n\u001b[1;33m    find_ebob(15,18)\u001b[0m\n\u001b[1;37m                    ^\u001b[0m\n\u001b[1;31mIndentationError\u001b[0m\u001b[1;31m:\u001b[0m expected an indented block\n"
     ]
    }
   ],
   "source": [
    "def find_ebob(*numbers):\n",
    "    min_value = min(numbers)\n",
    "    print(min_value)\n",
    "\n",
    "    for i in range(1,min_value+1):\n",
    "        for nums in numbers:\n",
    "            if (nums% i ==0):\n",
    "                toplam+=1\n",
    "\n",
    "    if toplam == 3:\n",
    "        ebob = i\n",
    "find_ebob(15,18)\n"
   ]
  },
  {
   "cell_type": "code",
   "execution_count": 21,
   "metadata": {},
   "outputs": [
    {
     "ename": "IndentationError",
     "evalue": "unindent does not match any outer indentation level (<tokenize>, line 12)",
     "output_type": "error",
     "traceback": [
      "\u001b[1;36m  File \u001b[1;32m\"<tokenize>\"\u001b[1;36m, line \u001b[1;32m12\u001b[0m\n\u001b[1;33m    return abob\u001b[0m\n\u001b[1;37m    ^\u001b[0m\n\u001b[1;31mIndentationError\u001b[0m\u001b[1;31m:\u001b[0m unindent does not match any outer indentation level\n"
     ]
    }
   ],
   "source": [
    "def ebob(*nums):\n",
    "    minValue = min(nums)\n",
    "    ebob = 1\n",
    "\n",
    "    for i in range(1, minValue +1):\n",
    "        isDivideAll = True\n",
    "        for number in nums:\n",
    "         if number % i!= 0:\n",
    "             İsDivideAll = False\n",
    "        if İsDivideAll ==True:\n",
    "            ebob = i\n",
    "     return abob\n",
    "\n",
    "print(ebob(33,121,110,22))\n",
    "print(ebob(100,350,150,100))\n"
   ]
  },
  {
   "cell_type": "code",
   "execution_count": null,
   "metadata": {},
   "outputs": [],
   "source": [
    "def sumOddIndex(input_list):\n",
    "    return sum(input_list)\n",
    "    "
   ]
  }
 ],
 "metadata": {
  "interpreter": {
   "hash": "9d6ce5ea9b30afa84a0bdd15adcfa687f418b99b4b035176b67360f86967787b"
  },
  "kernelspec": {
   "display_name": "Python 3.8.5 ('base')",
   "language": "python",
   "name": "python3"
  },
  "language_info": {
   "codemirror_mode": {
    "name": "ipython",
    "version": 3
   },
   "file_extension": ".py",
   "mimetype": "text/x-python",
   "name": "python",
   "nbconvert_exporter": "python",
   "pygments_lexer": "ipython3",
   "version": "3.8.5"
  },
  "orig_nbformat": 4
 },
 "nbformat": 4,
 "nbformat_minor": 2
}
