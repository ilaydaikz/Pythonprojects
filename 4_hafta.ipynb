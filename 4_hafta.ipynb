{
 "cells": [
  {
   "cell_type": "code",
   "execution_count": 2,
   "metadata": {},
   "outputs": [
    {
     "name": "stdout",
     "output_type": "stream",
     "text": [
      "10\n",
      "4\n"
     ]
    }
   ],
   "source": [
    "#default deger alabiliyor\n",
    "double = lambda x = 2:x *2\n",
    "print(double(5))\n",
    "print(double())\n"
   ]
  },
  {
   "cell_type": "code",
   "execution_count": 1,
   "metadata": {},
   "outputs": [
    {
     "name": "stdout",
     "output_type": "stream",
     "text": [
      "10\n"
     ]
    }
   ],
   "source": [
    "#basitce aldıgı degeri 2 kati olarak donen \n",
    "double = lambda x: x* 2\n",
    "print(10)"
   ]
  },
  {
   "cell_type": "code",
   "execution_count": 1,
   "metadata": {},
   "outputs": [
    {
     "name": "stdout",
     "output_type": "stream",
     "text": [
      "3\n"
     ]
    }
   ],
   "source": [
    "max = lambda x, y: x  if x > y else y \n",
    "'''\n",
    "fonk ile yaptıgımızda\n",
    "def max(x,y):\n",
    "    if x > y:\n",
    "        return x\n",
    "    else:\n",
    "        return y\n",
    "'''\n",
    "print(max(3,2))"
   ]
  },
  {
   "cell_type": "code",
   "execution_count": 4,
   "metadata": {},
   "outputs": [
    {
     "name": "stdout",
     "output_type": "stream",
     "text": [
      "<generator object <lambda>.<locals>.<genexpr> at 0x0000013A0E7637B0>\n"
     ]
    }
   ],
   "source": [
    "my_list = [1,2,3,4]\n",
    "\n",
    "\n",
    "new_list = lambda x: (i*10  for i in x) \n",
    "\n",
    "print(new_list(my_list))\n",
    "\n"
   ]
  },
  {
   "cell_type": "code",
   "execution_count": 5,
   "metadata": {},
   "outputs": [
    {
     "name": "stdout",
     "output_type": "stream",
     "text": [
      "[[1, 2, 4, 6], [3, 5, 7, 9]]\n"
     ]
    }
   ],
   "source": [
    "my_list = [[2,6,4,1],[7,5,3,9]]\n",
    "#sorted(list) #çeviriyor\n",
    "\n",
    "sort_list = lambda x: (sorted(i) for i in x)\n",
    "\n",
    "print(list(sort_list(my_list)))\n",
    "\n",
    "\n"
   ]
  },
  {
   "cell_type": "code",
   "execution_count": 7,
   "metadata": {},
   "outputs": [
    {
     "name": "stdout",
     "output_type": "stream",
     "text": [
      "[1, 3, 5, 7, 9]\n"
     ]
    }
   ],
   "source": [
    "#filte() ile kullanimi\n",
    "# bir lsitenin icerisinde yer alan tek sayiları ekrana bas\n",
    "\n",
    "my_list = [1,2,3,4,5,6,7,8,9,0]\n",
    "\n",
    "new_list = list( filter(lambda x: x % 2 != 0, my_list))\n",
    "\n",
    "print(new_list)\n",
    "\n"
   ]
  },
  {
   "cell_type": "markdown",
   "metadata": {},
   "source": [
    "map ile kullanimi"
   ]
  },
  {
   "cell_type": "code",
   "execution_count": 9,
   "metadata": {},
   "outputs": [
    {
     "name": "stdout",
     "output_type": "stream",
     "text": [
      "[True, False, True, False, True, False, True, False, True, False]\n"
     ]
    }
   ],
   "source": [
    "my_list = [1,2,3,4,5,6,7,8,9,0]\n",
    "\n",
    "new_list = list(map(lambda x: x % 2 != 0, my_list))\n",
    "print(new_list)\n"
   ]
  },
  {
   "cell_type": "code",
   "execution_count": 9,
   "metadata": {},
   "outputs": [
    {
     "name": "stdout",
     "output_type": "stream",
     "text": [
      "[2, 4, 6, 8, 10, 12, 14, 16, 18, 0]\n"
     ]
    }
   ],
   "source": [
    "my_list = [1,2,3,4,5,6,7,8,9,0]\n",
    "\n",
    "new_list = list(map(lambda x: x  * 2, my_list))\n",
    "\n",
    "\n",
    "# lambda x: i * 2  for i in x\n",
    "\n",
    "print(new_list)\n"
   ]
  },
  {
   "cell_type": "code",
   "execution_count": 10,
   "metadata": {},
   "outputs": [
    {
     "name": "stdout",
     "output_type": "stream",
     "text": [
      "[3, 9, 15]\n"
     ]
    }
   ],
   "source": [
    "#map ile liste iicndeki her ilk elemanin üc katını geri döndüren kod\n",
    "A = [[1,2], [3,4], [5,6]]\n",
    "B = list(map(lambda x:x[0]*3, A))\n",
    "print(B)\n"
   ]
  },
  {
   "cell_type": "code",
   "execution_count": 12,
   "metadata": {},
   "outputs": [
    {
     "name": "stdout",
     "output_type": "stream",
     "text": [
      "[3, 4, 5]\n"
     ]
    }
   ],
   "source": [
    "#öncelikle filter ile [10,20,30,40,50] listesi 20 dn büyük olan listeyi bul\n",
    "#map ile bu listedeki elemanlar üzerinde int bolme yapıp 10 a bol\n",
    "\n",
    "my_list = [10,20,30,40,50]\n",
    "new_list = list(map(lambda y: y//10, filter(lambda x: x > 20, my_list)))\n",
    "#map(lambda, filter(lambda, liste))\n",
    "print(new_list)"
   ]
  },
  {
   "cell_type": "code",
   "execution_count": 18,
   "metadata": {},
   "outputs": [
    {
     "data": {
      "text/plain": [
       "[20, 10, 30]"
      ]
     },
     "execution_count": 18,
     "metadata": {},
     "output_type": "execute_result"
    }
   ],
   "source": [
    "# karisik bir liste tanimla. \n",
    "# liste icerisinde int tipindeki elemanlari bulalim.\n",
    "\n",
    "my_list = [\"python\", 20, 10, True, 30, \"b\"]\n",
    "list(filter(lambda x: type(x) == int , my_list))\n"
   ]
  },
  {
   "cell_type": "code",
   "execution_count": 21,
   "metadata": {},
   "outputs": [
    {
     "data": {
      "text/plain": [
       "['ceren', 'ceyda', 'buket']"
      ]
     },
     "execution_count": 21,
     "metadata": {},
     "output_type": "execute_result"
    }
   ],
   "source": [
    "# string tipinde bir lsite tanimla\n",
    "#ardından bunları buyuk harfle ekraan bas\n",
    "my_list = [\"Ceren\", \"Ceyda\", \"Buket\"]\n",
    "list(map(lambda x: x.upper(), my_list))\n",
    "list(map(lambda x: x.lower(), my_list))\n",
    "\n"
   ]
  },
  {
   "cell_type": "code",
   "execution_count": 22,
   "metadata": {},
   "outputs": [
    {
     "data": {
      "text/plain": [
       "['Merve', 'Nihal', 'Hilal']"
      ]
     },
     "execution_count": 22,
     "metadata": {},
     "output_type": "execute_result"
    }
   ],
   "source": [
    "#listemizin bu defa ilk harflerini buyuk yazdir\n",
    "my_list = [\"merve\", \"nihal\", \"hilal\"]\n",
    "list(map(lambda x: x.capitalize(), my_list))\n"
   ]
  },
  {
   "cell_type": "markdown",
   "metadata": {},
   "source": [
    "listelere devam\n"
   ]
  },
  {
   "cell_type": "code",
   "execution_count": 23,
   "metadata": {},
   "outputs": [
    {
     "name": "stdout",
     "output_type": "stream",
     "text": [
      "[1, 0, 0, 0, 5, 6, 7, 8, 9, 10, 12, 17]\n"
     ]
    }
   ],
   "source": [
    "my_list = [1,2,3,4,5,6,7,8,9,10,12,17]\n",
    "\n",
    "my_list[1:4] = [0,0,0]\n",
    "print(my_list)\n"
   ]
  },
  {
   "cell_type": "code",
   "execution_count": 37,
   "metadata": {},
   "outputs": [
    {
     "name": "stdout",
     "output_type": "stream",
     "text": [
      "[1, 2, 3, 4, 5, 6, 7, 8, 9, 0, 0, 0]\n"
     ]
    }
   ],
   "source": [
    "#sondan üc elemanı tersten olacak sekilde degistir\n",
    "my_list = [1,2,3,4,5,6,7,8,9,10,12,17]\n",
    "my_list[:-4:-1] = [0, 0, 0]\n",
    "print(my_list)"
   ]
  },
  {
   "cell_type": "code",
   "execution_count": 39,
   "metadata": {},
   "outputs": [
    {
     "name": "stdout",
     "output_type": "stream",
     "text": [
      "[2, 3, 4, 5, 6, 7, 8, 9, 10, 11, 13, 18]\n"
     ]
    }
   ],
   "source": [
    "#listenin tum elemanlarina 1 ekleme yap\n",
    "my_list = [1,2,3,4,5,6,7,8,9,10,12,17]\n",
    "\n",
    "for i in range(0, len(my_list)):\n",
    "    my_list[i] =  my_list[i] +1\n",
    "print(my_list)\n"
   ]
  },
  {
   "cell_type": "markdown",
   "metadata": {},
   "source": [
    "**LİSTEDEN ELEMAN SİLME**\n",
    "*remove()\n",
    "*pop()\n",
    "*clear()\n",
    "*del()"
   ]
  },
  {
   "cell_type": "code",
   "execution_count": 42,
   "metadata": {},
   "outputs": [
    {
     "name": "stdout",
     "output_type": "stream",
     "text": [
      "['Burcu', 'Aylin', 12, 'Ceyda', 2022, 'python', True, 'Pyhon', 12]\n",
      "['Burcu', 'Aylin', 'Ceyda', 2022, 'python', True, 'Pyhon', 12]\n",
      "['Burcu', 'Ceyda', 2022, 'python', True, 'Pyhon', 12]\n"
     ]
    }
   ],
   "source": [
    "#remove() parametre olraak silecek elemanı alır ilk buldugu yerde siler.\n",
    "my_list = [\"Burcu\", \"Aylin\", 12 ,\"Ceyda\",2022, \"python\", True, \"Pyhon\", 12]\n",
    "print(my_list)\n",
    "\n",
    "my_list.remove(12)\n",
    "print(my_list)\n",
    "\n",
    "my_list.remove(\"Aylin\")\n",
    "print(my_list)\n"
   ]
  },
  {
   "cell_type": "code",
   "execution_count": 43,
   "metadata": {},
   "outputs": [
    {
     "ename": "ValueError",
     "evalue": "list.remove(x): x not in list",
     "output_type": "error",
     "traceback": [
      "\u001b[1;31m---------------------------------------------------------------------------\u001b[0m",
      "\u001b[1;31mValueError\u001b[0m                                Traceback (most recent call last)",
      "\u001b[1;32m<ipython-input-43-f9b284638c2b>\u001b[0m in \u001b[0;36m<module>\u001b[1;34m\u001b[0m\n\u001b[1;32m----> 1\u001b[1;33m \u001b[0mmy_list\u001b[0m\u001b[1;33m.\u001b[0m\u001b[0mremove\u001b[0m\u001b[1;33m(\u001b[0m\u001b[1;36m2023\u001b[0m\u001b[1;33m)\u001b[0m\u001b[1;33m\u001b[0m\u001b[1;33m\u001b[0m\u001b[0m\n\u001b[0m",
      "\u001b[1;31mValueError\u001b[0m: list.remove(x): x not in list"
     ]
    }
   ],
   "source": [
    "my_list.remove(2023)"
   ]
  },
  {
   "cell_type": "markdown",
   "metadata": {},
   "source": [
    "***pop()***\n",
    "verilen indexteki elemanı silmek icin kullanilir."
   ]
  },
  {
   "cell_type": "code",
   "execution_count": 44,
   "metadata": {},
   "outputs": [
    {
     "name": "stdout",
     "output_type": "stream",
     "text": [
      "['Burcu', 'Aylin', 12, 'Ceyda', 2022, 'python', True, 'Pyhon', 12]\n",
      "['Burcu', 12, 'Ceyda', 2022, 'python', True, 'Pyhon', 12]\n"
     ]
    }
   ],
   "source": [
    "my_list = [\"Burcu\", \"Aylin\", 12 ,\"Ceyda\",2022, \"python\", True, \"Pyhon\", 12]\n",
    "print(my_list)\n",
    "\n",
    "my_list.pop(1)\n",
    "print(my_list)"
   ]
  },
  {
   "cell_type": "code",
   "execution_count": 45,
   "metadata": {},
   "outputs": [
    {
     "name": "stdout",
     "output_type": "stream",
     "text": [
      "['Burcu', 12, 'Ceyda', 2022, 'python', True, 'Pyhon']\n"
     ]
    }
   ],
   "source": [
    "my_list.pop()\n",
    "print(my_list)\n",
    "#listenin sondaki elemani siler!!!!!"
   ]
  },
  {
   "cell_type": "markdown",
   "metadata": {},
   "source": [
    "del() belli araliktaki elemanlari siliyoruz."
   ]
  },
  {
   "cell_type": "code",
   "execution_count": 49,
   "metadata": {},
   "outputs": [
    {
     "name": "stdout",
     "output_type": "stream",
     "text": [
      "['Burcu', 'Aylin', 12, 'Ceyda', 2022, 'python', True, 'Pyhon', 12]\n",
      "['Burcu', 2022, 'python', True, 'Pyhon', 12]\n"
     ]
    }
   ],
   "source": [
    "my_list = [\"Burcu\", \"Aylin\", 12 ,\"Ceyda\",2022, \"python\", True, \"Pyhon\", 12]\n",
    "print(my_list)\n",
    "\n",
    "del my_list[1:4]\n",
    "print(my_list)\n"
   ]
  },
  {
   "cell_type": "markdown",
   "metadata": {},
   "source": [
    "clear() ile listenin tüm elemnlari silinir. Bos liste doner."
   ]
  },
  {
   "cell_type": "code",
   "execution_count": 50,
   "metadata": {},
   "outputs": [
    {
     "name": "stdout",
     "output_type": "stream",
     "text": [
      "[]\n",
      "[23]\n"
     ]
    }
   ],
   "source": [
    "my_list = [\"Burcu\", \"Aylin\", 12 ,\"Ceyda\",2022, \"python\", True, \"Pyhon\", 12]\n",
    "\n",
    "my_list.clear()\n",
    "print(my_list)\n",
    "\n",
    "my_list.append(23)\n",
    "print(my_list)\n"
   ]
  },
  {
   "cell_type": "code",
   "execution_count": 52,
   "metadata": {},
   "outputs": [
    {
     "ename": "NameError",
     "evalue": "name 'my_list' is not defined",
     "output_type": "error",
     "traceback": [
      "\u001b[1;31m---------------------------------------------------------------------------\u001b[0m",
      "\u001b[1;31mNameError\u001b[0m                                 Traceback (most recent call last)",
      "\u001b[1;32m<ipython-input-52-e343691bd7ec>\u001b[0m in \u001b[0;36m<module>\u001b[1;34m\u001b[0m\n\u001b[0;32m      2\u001b[0m \u001b[1;32mdel\u001b[0m \u001b[0mmy_list\u001b[0m\u001b[1;33m\u001b[0m\u001b[1;33m\u001b[0m\u001b[0m\n\u001b[0;32m      3\u001b[0m \u001b[1;33m\u001b[0m\u001b[0m\n\u001b[1;32m----> 4\u001b[1;33m \u001b[0mmy_list\u001b[0m\u001b[1;33m.\u001b[0m\u001b[0mappend\u001b[0m\u001b[1;33m(\u001b[0m\u001b[1;33m)\u001b[0m\u001b[1;33m\u001b[0m\u001b[1;33m\u001b[0m\u001b[0m\n\u001b[0m",
      "\u001b[1;31mNameError\u001b[0m: name 'my_list' is not defined"
     ]
    }
   ],
   "source": [
    "my_list = [\"Burcu\", \"Aylin\", 12 ,\"Ceyda\",2022, \"python\", True, \"Pyhon\", 12]\n",
    "del my_list\n",
    "\n",
    "my_list.append()\n",
    "#mylisti tamamen sildin artık öyle bir liste yok.."
   ]
  },
  {
   "cell_type": "code",
   "execution_count": 53,
   "metadata": {},
   "outputs": [
    {
     "name": "stdout",
     "output_type": "stream",
     "text": [
      "3\n"
     ]
    }
   ],
   "source": [
    "#bir liste icerisinde bir elemanı bulunmasi\n",
    "my_list = [\"Burcu\", \"Aylin\", 12 ,\"Ceyda\",2022, \"python\", True, \"Pyhon\", 12]\n",
    "\n",
    "print(my_list.index(\"Ceyda\"))"
   ]
  },
  {
   "cell_type": "code",
   "execution_count": 54,
   "metadata": {},
   "outputs": [
    {
     "name": "stdout",
     "output_type": "stream",
     "text": [
      "[1, 2, 3, 4, 5, 6]\n"
     ]
    }
   ],
   "source": [
    "# iki listeyi concat yani birlestirme\n",
    "# + operatörü ya da extend() ile birlestirebiliriz\n",
    "\n",
    "my_list1 = [1,2,3]\n",
    "my_list2 = [4,5,6]\n",
    "\n",
    "my_list3 = my_list1 + my_list2\n",
    "print(my_list3)"
   ]
  },
  {
   "cell_type": "code",
   "execution_count": 55,
   "metadata": {},
   "outputs": [
    {
     "name": "stdout",
     "output_type": "stream",
     "text": [
      "[1, 2, 3, 4, 5, 6]\n"
     ]
    }
   ],
   "source": [
    "my_list1.extend(my_list2)\n",
    "\n",
    "print(my_list1)"
   ]
  },
  {
   "cell_type": "markdown",
   "metadata": {},
   "source": [
    "Bir listenin kopalanamasi\n",
    "= operatörü ve copy() metodu ile"
   ]
  },
  {
   "cell_type": "code",
   "execution_count": 5,
   "metadata": {},
   "outputs": [
    {
     "name": "stdout",
     "output_type": "stream",
     "text": [
      "[1, 2, 3]\n",
      "[1, 2, 3, 4]\n",
      "[1, 2, 3, 4, 6]\n"
     ]
    }
   ],
   "source": [
    "my_list1 = [1,2,3]\n",
    "new_list = my_list1\n",
    "\n",
    "print(new_list)\n",
    "\n",
    "my_list1.append(4)\n",
    "\n",
    "print(new_list)\n",
    "\n",
    "new_list.append(6)\n",
    "print(my_list1)\n"
   ]
  },
  {
   "cell_type": "markdown",
   "metadata": {},
   "source": [
    "copy()"
   ]
  },
  {
   "cell_type": "code",
   "execution_count": 6,
   "metadata": {},
   "outputs": [
    {
     "name": "stdout",
     "output_type": "stream",
     "text": [
      "[1, 2, 3]\n",
      "[1, 2, 3]\n",
      "[1, 2, 3]\n",
      "[1, 2, 3, 4]\n",
      "[1, 2, 3, 5]\n",
      "[1, 2, 3, 4]\n"
     ]
    }
   ],
   "source": [
    "my_list1 = [1,2,3]\n",
    "new_list = my_list1.copy()\n",
    "print(new_list)\n",
    "print(my_list1)\n",
    "\n",
    "my_list1.append(4)\n",
    "print(new_list)\n",
    "print(my_list1)\n",
    "\n",
    "new_list.append(5)\n",
    "print(new_list)\n",
    "print(my_list1)\n"
   ]
  },
  {
   "cell_type": "markdown",
   "metadata": {},
   "source": [
    "***bir liste üzerinde islem yapabilecegimiz metodlar***\n",
    "\n",
    "* sort\n",
    "* reverse \n",
    "* max, min\n",
    "* sum \n"
   ]
  },
  {
   "cell_type": "code",
   "execution_count": 7,
   "metadata": {},
   "outputs": [
    {
     "name": "stdout",
     "output_type": "stream",
     "text": [
      "listenin sıralanmis hali:  [1, 3, 4, 7, 9]\n",
      "listenin tersten siralanmis hali:  [9, 7, 4, 3, 1]\n",
      "listedeki max elemani:  9\n",
      "list min elemani  1\n"
     ]
    }
   ],
   "source": [
    "my_list = [1,4,7,3,9]\n",
    "my_list.sort()\n",
    "print(\"listenin sıralanmis hali: \", my_list)\n",
    "\n",
    "my_list.reverse()\n",
    "print(\"listenin tersten siralanmis hali: \", my_list)\n",
    "\n",
    "print(\"listedeki max elemani: \", max(my_list))\n",
    "print(\"list min elemani \", min(my_list))"
   ]
  },
  {
   "cell_type": "markdown",
   "metadata": {},
   "source": [
    "İC İCE LİSTELER"
   ]
  },
  {
   "cell_type": "code",
   "execution_count": 10,
   "metadata": {},
   "outputs": [
    {
     "name": "stdout",
     "output_type": "stream",
     "text": [
      "['AI & ML Engineer', 'Android Developer', 'Software Developer']\n",
      "AI & ML Engineer\n"
     ]
    }
   ],
   "source": [
    "my_list = [\"Aysel\", \"Aydin\", 2022, [\"AI & ML Engineer\",\"Android Developer\",\"Software Developer\"]]\n",
    "print(my_list[3])\n",
    "print(my_list[3] [0])"
   ]
  },
  {
   "cell_type": "code",
   "execution_count": 22,
   "metadata": {},
   "outputs": [],
   "source": [
    "liste = [1,2,6,4,5,6,7,8,6,]\n",
    "new_list1 = []"
   ]
  },
  {
   "cell_type": "code",
   "execution_count": 27,
   "metadata": {},
   "outputs": [
    {
     "name": "stdout",
     "output_type": "stream",
     "text": [
      "[1, 2, 6, 4, 5, 6, 7, 8, 6]\n",
      "[1, 2, 6, 7, 4, 5, 6, 7, 7, 8, 6, 7]\n"
     ]
    }
   ],
   "source": [
    "# listede 6 degerleri sonrası listeye 7 elemanini ekleyem kod blogunu yaz\n",
    "liste = [1,2,6,4,5,6,7,8,6]\n",
    "new_list1 = []\n",
    "for i in liste:\n",
    "    new_list1.append(i)\n",
    "    if  i == 6:\n",
    "      new_list1.append(7)\n",
    "print(liste)\n",
    "print(new_list1)"
   ]
  },
  {
   "cell_type": "code",
   "execution_count": 29,
   "metadata": {},
   "outputs": [
    {
     "name": "stdout",
     "output_type": "stream",
     "text": [
      "0\n",
      "1\n",
      "2\n",
      "3\n",
      "4\n",
      "5\n",
      "6\n",
      "7\n",
      "8\n",
      "[1, 2, 6, 7, 4, 5, 6, 7, 7, 8, 6]\n"
     ]
    }
   ],
   "source": [
    "liste = [1,2,6,4,5,6,7,8,6]\n",
    "\n",
    "for i in range (len(liste)):\n",
    "  print(i)\n",
    "  if liste[i] == 6:\n",
    "    liste.insert(i+1,7)\n",
    "\n",
    "print(liste)\n"
   ]
  },
  {
   "cell_type": "code",
   "execution_count": 33,
   "metadata": {},
   "outputs": [
    {
     "name": "stdout",
     "output_type": "stream",
     "text": [
      "[1, 4, 16, 5, 36, 7, 64]\n"
     ]
    }
   ],
   "source": [
    "#bir lsite icwerisindeki cift sayilarin karelelrinden oluşan listeyi tanimla.\n",
    "liste = [1,2,4,5,6,7,8]\n",
    "new_list = []\n",
    "for i in liste:\n",
    "    if i % 2 == 0:\n",
    "        new_list.append(i**2)\n",
    "    else:\n",
    "        new_list.append(i)\n",
    "\n",
    "print(new_list)"
   ]
  },
  {
   "cell_type": "code",
   "execution_count": 35,
   "metadata": {},
   "outputs": [
    {
     "name": "stdout",
     "output_type": "stream",
     "text": [
      "[]\n",
      "[1, 4, 16, 5, 36, 7, 64]\n"
     ]
    }
   ],
   "source": [
    "liste = [1,2,4,5,6,7,8]\n",
    "new_list = []\n",
    "\n",
    "for index, value in enumerate(liste):\n",
    "    if value % 2 == 0:\n",
    "        liste[index] = value**2\n",
    "\n",
    "print(new_list)\n",
    "print(liste)\n"
   ]
  },
  {
   "cell_type": "code",
   "execution_count": 39,
   "metadata": {},
   "outputs": [
    {
     "name": "stdout",
     "output_type": "stream",
     "text": [
      "['Aysel', 'Aydin', 2022, ['AI & ML Engineer', 'Android Developer', 'Software Developer'], 12, 'Aydin']\n"
     ]
    }
   ],
   "source": [
    "my_list = [\"Aysel\", \"Aydin\", 2022, [\"AI & ML Engineer\"],12,\"Aydin\"]\n",
    "title = [\"Android Developer\",\"Software Developer\"]\n",
    "my_list[3].extend(title)\n",
    "print(my_list)"
   ]
  },
  {
   "cell_type": "code",
   "execution_count": 42,
   "metadata": {},
   "outputs": [
    {
     "name": "stdout",
     "output_type": "stream",
     "text": [
      "[1, 2, 3, 4, 6, 7, 8]\n"
     ]
    }
   ],
   "source": [
    "# bir liste icerisindeki duplicate olan degerleri temizle\n",
    "my_list = [1,2,3,4,1,2,7,6,8,2]\n",
    "unique_list = []\n",
    "for i in my_list:\n",
    "    if i not in unique_list:\n",
    "        unique_list.append(i)\n",
    "unique_list.sort()\n",
    "print(unique_list)\n"
   ]
  },
  {
   "cell_type": "code",
   "execution_count": null,
   "metadata": {},
   "outputs": [],
   "source": [
    "#listenin icindeki en kucuk elemani bul\n",
    "\"\"\"my_list = [1,2,-3,0]\n",
    "for i in range \n",
    "\"\"\""
   ]
  },
  {
   "cell_type": "code",
   "execution_count": 43,
   "metadata": {},
   "outputs": [
    {
     "name": "stdout",
     "output_type": "stream",
     "text": [
      "['Sisterslab', 'women', 'akademimiz', 'hızıyla', 'devam', 'etmektedir']\n"
     ]
    }
   ],
   "source": [
    "#split(\" \")\n",
    "#text icerisinde 4'ten buyuk olan kelimlerden olusan bir liste olusur\n",
    "text = \"Sisterslab women in tech akademimiz tüm hızıyla devam etmektedir\"\n",
    "word_list = []\n",
    "\n",
    "for i in text.split(\" \"):\n",
    "     if len(i) > 4:\n",
    "         word_list.append(i)\n",
    "print(word_list)\n",
    "\n"
   ]
  },
  {
   "cell_type": "markdown",
   "metadata": {},
   "source": [
    "***TUPLE***\n",
    "* index ile erişelebilir, ordered yani sıralidir\n",
    "* tuple'lar değiştirilemez, yani oluşturuulduktan sonra öge eklenemez ya da silinemez.\n",
    "* ( parantez içeriisnde tanımlanır, elemanlar virgüllerle ayrılır.\n",
    "* farklı veri tpileri içerebilir\n",
    "* aynı degere sahip iki öğeye sahip olabikir. duplicate veri olabilir. "
   ]
  },
  {
   "cell_type": "code",
   "execution_count": 44,
   "metadata": {},
   "outputs": [
    {
     "name": "stdout",
     "output_type": "stream",
     "text": [
      "('merve', 303, True, [1, 2, 3])\n"
     ]
    }
   ],
   "source": [
    "int_tuple = (1,2,3,4)\n",
    "\n",
    "string_tuple = (\"Ayşe\",\" Nurefşan\",\" Ayca\")\n",
    "mix_tuple = (\"merve\", 303, True, [1,2,3])\n",
    "print(mix_tuple)\n"
   ]
  },
  {
   "cell_type": "code",
   "execution_count": 48,
   "metadata": {},
   "outputs": [
    {
     "name": "stdout",
     "output_type": "stream",
     "text": [
      "<class 'tuple'>\n"
     ]
    }
   ],
   "source": [
    "my_tuple = \"merve\", 2093, True\n",
    "\n",
    "print(type(my_tuple))\n"
   ]
  },
  {
   "cell_type": "code",
   "execution_count": 49,
   "metadata": {},
   "outputs": [
    {
     "name": "stdout",
     "output_type": "stream",
     "text": [
      "merve 2093 True\n"
     ]
    }
   ],
   "source": [
    "name, year, male = my_tuple\n",
    "\n",
    "print(name, year, male)\n"
   ]
  },
  {
   "cell_type": "code",
   "execution_count": 50,
   "metadata": {},
   "outputs": [
    {
     "name": "stdout",
     "output_type": "stream",
     "text": [
      "3\n"
     ]
    }
   ],
   "source": [
    "print(len(my_tuple))"
   ]
  },
  {
   "cell_type": "code",
   "execution_count": 51,
   "metadata": {},
   "outputs": [
    {
     "name": "stdout",
     "output_type": "stream",
     "text": [
      "merve\n",
      "2093\n",
      "True\n"
     ]
    }
   ],
   "source": [
    "for item in my_tuple:\n",
    "    print(item)"
   ]
  },
  {
   "cell_type": "code",
   "execution_count": 52,
   "metadata": {},
   "outputs": [
    {
     "name": "stdout",
     "output_type": "stream",
     "text": [
      "p\n",
      "y\n",
      "t\n",
      "h\n",
      "o\n",
      "n\n"
     ]
    }
   ],
   "source": [
    "my_tuple = ('p','y','t', 'h', 'o', 'n')\n",
    "for i in range(len(my_tuple)):\n",
    "    print(my_tuple[i])"
   ]
  },
  {
   "cell_type": "code",
   "execution_count": 53,
   "metadata": {},
   "outputs": [
    {
     "ename": "IndexError",
     "evalue": "tuple index out of range",
     "output_type": "error",
     "traceback": [
      "\u001b[1;31m---------------------------------------------------------------------------\u001b[0m",
      "\u001b[1;31mIndexError\u001b[0m                                Traceback (most recent call last)",
      "\u001b[1;32m<ipython-input-53-bf35daa1f448>\u001b[0m in \u001b[0;36m<module>\u001b[1;34m\u001b[0m\n\u001b[1;32m----> 1\u001b[1;33m \u001b[0mmy_tuple\u001b[0m\u001b[1;33m[\u001b[0m\u001b[1;36m9\u001b[0m\u001b[1;33m]\u001b[0m\u001b[1;33m\u001b[0m\u001b[1;33m\u001b[0m\u001b[0m\n\u001b[0m",
      "\u001b[1;31mIndexError\u001b[0m: tuple index out of range"
     ]
    }
   ],
   "source": [
    "my_tuple[9]\n",
    "#index hatası aliriiz!!!\n"
   ]
  },
  {
   "cell_type": "code",
   "execution_count": 55,
   "metadata": {},
   "outputs": [
    {
     "name": "stdout",
     "output_type": "stream",
     "text": [
      "('n', 'o', 'h', 't', 'y', 'p')\n"
     ]
    }
   ],
   "source": [
    "print(my_tuple[::-1])"
   ]
  },
  {
   "cell_type": "code",
   "execution_count": 57,
   "metadata": {},
   "outputs": [
    {
     "name": "stdout",
     "output_type": "stream",
     "text": [
      "(0, 1, 2, 3, 4)\n"
     ]
    }
   ],
   "source": [
    "my_tuple = (0,1,2,3,4,5,6,7,8,9)\n",
    "\n",
    "print(my_tuple[:5])"
   ]
  },
  {
   "cell_type": "markdown",
   "metadata": {},
   "source": [
    "my_tuple = () # boş tuple"
   ]
  },
  {
   "cell_type": "code",
   "execution_count": 58,
   "metadata": {},
   "outputs": [
    {
     "name": "stdout",
     "output_type": "stream",
     "text": [
      "1\n"
     ]
    }
   ],
   "source": [
    "my_tuple = (\"ALİ\", \"VELİ\", \"DERYA\")\n",
    "print(my_tuple.index(\"VELİ\"))"
   ]
  },
  {
   "cell_type": "code",
   "execution_count": 60,
   "metadata": {},
   "outputs": [
    {
     "name": "stdout",
     "output_type": "stream",
     "text": [
      "5\n"
     ]
    }
   ],
   "source": [
    "my_tuple = (1,2,3,4,1,2,7,6,8,2)\n",
    "\n",
    "print(my_tuple.index(2, 4, 7))"
   ]
  },
  {
   "cell_type": "code",
   "execution_count": 61,
   "metadata": {},
   "outputs": [
    {
     "ename": "ValueError",
     "evalue": "tuple.index(x): x not in tuple",
     "output_type": "error",
     "traceback": [
      "\u001b[1;31m---------------------------------------------------------------------------\u001b[0m",
      "\u001b[1;31mValueError\u001b[0m                                Traceback (most recent call last)",
      "\u001b[1;32m<ipython-input-61-52251ba46b9e>\u001b[0m in \u001b[0;36m<module>\u001b[1;34m\u001b[0m\n\u001b[1;32m----> 1\u001b[1;33m \u001b[0mprint\u001b[0m\u001b[1;33m(\u001b[0m\u001b[0mmy_tuple\u001b[0m\u001b[1;33m.\u001b[0m\u001b[0mindex\u001b[0m\u001b[1;33m(\u001b[0m\u001b[1;36m9\u001b[0m\u001b[1;33m,\u001b[0m\u001b[1;36m4\u001b[0m\u001b[1;33m,\u001b[0m\u001b[1;36m7\u001b[0m\u001b[1;33m)\u001b[0m\u001b[1;33m)\u001b[0m\u001b[1;33m\u001b[0m\u001b[1;33m\u001b[0m\u001b[0m\n\u001b[0m",
      "\u001b[1;31mValueError\u001b[0m: tuple.index(x): x not in tuple"
     ]
    }
   ],
   "source": [
    "print(my_tuple.index(9,4,7))"
   ]
  },
  {
   "cell_type": "code",
   "execution_count": 62,
   "metadata": {},
   "outputs": [
    {
     "name": "stdout",
     "output_type": "stream",
     "text": [
      "9 elemani tuple iceriisinde yer almiyor\n"
     ]
    }
   ],
   "source": [
    "\n",
    "my_tuple = (1,2,3,4,1,2,7,6,8,2)\n",
    "if 9 in my_tuple:\n",
    "    print(my_tuple.index(9,4,7))\n",
    "else: print(\"9 elemani tuple iceriisinde yer almiyor\")\n",
    "\n"
   ]
  },
  {
   "cell_type": "code",
   "execution_count": 63,
   "metadata": {},
   "outputs": [
    {
     "ename": "TypeError",
     "evalue": "'tuple' object does not support item assignment",
     "output_type": "error",
     "traceback": [
      "\u001b[1;31m---------------------------------------------------------------------------\u001b[0m",
      "\u001b[1;31mTypeError\u001b[0m                                 Traceback (most recent call last)",
      "\u001b[1;32m<ipython-input-63-4dc2bf296ec7>\u001b[0m in \u001b[0;36m<module>\u001b[1;34m\u001b[0m\n\u001b[1;32m----> 1\u001b[1;33m \u001b[0mmy_tuple\u001b[0m\u001b[1;33m[\u001b[0m\u001b[1;36m0\u001b[0m\u001b[1;33m]\u001b[0m \u001b[1;33m=\u001b[0m \u001b[1;36m7\u001b[0m\u001b[1;33m\u001b[0m\u001b[1;33m\u001b[0m\u001b[0m\n\u001b[0m",
      "\u001b[1;31mTypeError\u001b[0m: 'tuple' object does not support item assignment"
     ]
    }
   ],
   "source": [
    "my_tuple[0] = 7 #yeniden atamaya izin yok\n"
   ]
  },
  {
   "cell_type": "code",
   "execution_count": 1,
   "metadata": {},
   "outputs": [
    {
     "name": "stdout",
     "output_type": "stream",
     "text": [
      "su anki type :  <class 'tuple'>\n",
      "su anki type :  <class 'list'>\n",
      "su anki type:  <class 'tuple'>\n",
      "(1, 3, 5, 7, 9)\n"
     ]
    }
   ],
   "source": [
    "my_tuple =(1,3,5,7)\n",
    "print(\"su anki type : \", type(my_tuple))\n",
    "\n",
    "temp_list = list(my_tuple)\n",
    "print(\"su anki type : \", type(temp_list))\n",
    "\n",
    "temp_list.append(9)\n",
    "\n",
    "my_tuple = tuple(temp_list)\n",
    "print(\"su anki type: \", type(my_tuple))\n",
    "print(my_tuple)"
   ]
  },
  {
   "cell_type": "code",
   "execution_count": 3,
   "metadata": {},
   "outputs": [
    {
     "ename": "TypeError",
     "evalue": "'tuple' object does not support item assignment",
     "output_type": "error",
     "traceback": [
      "\u001b[1;31m---------------------------------------------------------------------------\u001b[0m",
      "\u001b[1;31mTypeError\u001b[0m                                 Traceback (most recent call last)",
      "\u001b[1;32m<ipython-input-3-f6b3c591c255>\u001b[0m in \u001b[0;36m<module>\u001b[1;34m\u001b[0m\n\u001b[0;32m      1\u001b[0m \u001b[0mmix_tuple\u001b[0m \u001b[1;33m=\u001b[0m \u001b[1;33m(\u001b[0m\u001b[1;34m\"merve\"\u001b[0m\u001b[1;33m,\u001b[0m \u001b[1;36m303\u001b[0m\u001b[1;33m,\u001b[0m \u001b[1;32mTrue\u001b[0m\u001b[1;33m,\u001b[0m \u001b[1;33m[\u001b[0m\u001b[1;36m1\u001b[0m\u001b[1;33m,\u001b[0m\u001b[1;36m2\u001b[0m\u001b[1;33m,\u001b[0m\u001b[1;36m3\u001b[0m\u001b[1;33m]\u001b[0m\u001b[1;33m)\u001b[0m\u001b[1;33m\u001b[0m\u001b[1;33m\u001b[0m\u001b[0m\n\u001b[0;32m      2\u001b[0m \u001b[0mmix_tuple\u001b[0m\u001b[1;33m[\u001b[0m\u001b[1;36m3\u001b[0m\u001b[1;33m]\u001b[0m\u001b[1;33m[\u001b[0m\u001b[1;36m0\u001b[0m\u001b[1;33m]\u001b[0m \u001b[1;33m=\u001b[0m \u001b[1;36m8\u001b[0m\u001b[1;33m\u001b[0m\u001b[1;33m\u001b[0m\u001b[0m\n\u001b[1;32m----> 3\u001b[1;33m \u001b[0mmix_tuple\u001b[0m\u001b[1;33m[\u001b[0m\u001b[1;36m1\u001b[0m\u001b[1;33m]\u001b[0m \u001b[1;33m=\u001b[0m \u001b[1;36m12345\u001b[0m\u001b[1;33m\u001b[0m\u001b[1;33m\u001b[0m\u001b[0m\n\u001b[0m\u001b[0;32m      4\u001b[0m \u001b[0mprint\u001b[0m\u001b[1;33m(\u001b[0m\u001b[0mmix_tuple\u001b[0m\u001b[1;33m)\u001b[0m\u001b[1;33m\u001b[0m\u001b[1;33m\u001b[0m\u001b[0m\n",
      "\u001b[1;31mTypeError\u001b[0m: 'tuple' object does not support item assignment"
     ]
    }
   ],
   "source": [
    "mix_tuple = (\"merve\", 303, True, [1,2,3])\n",
    "mix_tuple[3][0] = 8\n",
    "mix_tuple[1] = 12345 # indexi değiştiremezsin!!!\n",
    "print(mix_tuple)"
   ]
  },
  {
   "cell_type": "code",
   "execution_count": 6,
   "metadata": {},
   "outputs": [
    {
     "name": "stdout",
     "output_type": "stream",
     "text": [
      "(1, 2, 3, 4)\n",
      "(1, 2, 4)\n"
     ]
    }
   ],
   "source": [
    "my_tuple = (1,2,3,4)\n",
    "print(my_tuple)\n",
    "\n",
    "temp_list = list(my_tuple)\n",
    "temp_list.remove(3)\n",
    "\n",
    "my_tuple = tuple(temp_list)\n",
    "print(my_tuple)\n"
   ]
  },
  {
   "cell_type": "code",
   "execution_count": 7,
   "metadata": {},
   "outputs": [
    {
     "name": "stdout",
     "output_type": "stream",
     "text": [
      "(1, 2, 4)\n"
     ]
    }
   ],
   "source": [
    "my_tuple2 = my_tuple\n",
    "print(my_tuple2)\n"
   ]
  },
  {
   "cell_type": "code",
   "execution_count": 8,
   "metadata": {},
   "outputs": [
    {
     "name": "stdout",
     "output_type": "stream",
     "text": [
      "(1, 2, 4, 1, 2, 4)\n"
     ]
    }
   ],
   "source": [
    "tuple3 = my_tuple2 + my_tuple \n",
    "\n",
    "print(tuple3)\n"
   ]
  },
  {
   "cell_type": "markdown",
   "metadata": {},
   "source": [
    "***listeler değiştirilebilir, tupplelar değiştirilemez inmutable***"
   ]
  },
  {
   "cell_type": "code",
   "execution_count": null,
   "metadata": {},
   "outputs": [],
   "source": []
  }
 ],
 "metadata": {
  "interpreter": {
   "hash": "9d6ce5ea9b30afa84a0bdd15adcfa687f418b99b4b035176b67360f86967787b"
  },
  "kernelspec": {
   "display_name": "Python 3.8.5 ('base')",
   "language": "python",
   "name": "python3"
  },
  "language_info": {
   "codemirror_mode": {
    "name": "ipython",
    "version": 3
   },
   "file_extension": ".py",
   "mimetype": "text/x-python",
   "name": "python",
   "nbconvert_exporter": "python",
   "pygments_lexer": "ipython3",
   "version": "3.8.5"
  },
  "orig_nbformat": 4
 },
 "nbformat": 4,
 "nbformat_minor": 2
}
